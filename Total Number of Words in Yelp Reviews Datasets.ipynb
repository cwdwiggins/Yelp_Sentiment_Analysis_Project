{
 "cells": [
  {
   "cell_type": "markdown",
   "id": "2696d6aa",
   "metadata": {},
   "source": [
    "# Total Number of Words in Yelp Reviews Datasets"
   ]
  },
  {
   "cell_type": "markdown",
   "id": "c511fa9d",
   "metadata": {},
   "source": [
    "The purpose of this notebook is to calculate the total number of words in the corpus to figure out how many weights a neural network would need to solve for to produce word vectors with 300 components/features."
   ]
  },
  {
   "cell_type": "markdown",
   "id": "0542e076",
   "metadata": {},
   "source": [
    "### yelp_reviews_v2.csv"
   ]
  },
  {
   "cell_type": "code",
   "execution_count": 1,
   "id": "9629bd46",
   "metadata": {},
   "outputs": [],
   "source": [
    "import numpy as np\n",
    "import pandas as pd"
   ]
  },
  {
   "cell_type": "code",
   "execution_count": 3,
   "id": "8a81cce9",
   "metadata": {},
   "outputs": [
    {
     "data": {
      "text/html": [
       "<div>\n",
       "<style scoped>\n",
       "    .dataframe tbody tr th:only-of-type {\n",
       "        vertical-align: middle;\n",
       "    }\n",
       "\n",
       "    .dataframe tbody tr th {\n",
       "        vertical-align: top;\n",
       "    }\n",
       "\n",
       "    .dataframe thead th {\n",
       "        text-align: right;\n",
       "    }\n",
       "</style>\n",
       "<table border=\"1\" class=\"dataframe\">\n",
       "  <thead>\n",
       "    <tr style=\"text-align: right;\">\n",
       "      <th></th>\n",
       "      <th>date</th>\n",
       "      <th>review</th>\n",
       "      <th>rating</th>\n",
       "      <th>isEdited</th>\n",
       "      <th>userName</th>\n",
       "      <th>title</th>\n",
       "      <th>developerResponse</th>\n",
       "    </tr>\n",
       "  </thead>\n",
       "  <tbody>\n",
       "    <tr>\n",
       "      <th>0</th>\n",
       "      <td>2024-11-22 22:44:23</td>\n",
       "      <td>I say it can be fantastic because some people ...</td>\n",
       "      <td>5</td>\n",
       "      <td>False</td>\n",
       "      <td>Robg80</td>\n",
       "      <td>Yelp can be fantastic</td>\n",
       "      <td>NaN</td>\n",
       "    </tr>\n",
       "    <tr>\n",
       "      <th>1</th>\n",
       "      <td>2024-12-12 22:08:33</td>\n",
       "      <td>Yelp's developers have been spamming false 5-s...</td>\n",
       "      <td>1</td>\n",
       "      <td>False</td>\n",
       "      <td>itsbad):</td>\n",
       "      <td>Review botting should not be tolerated!</td>\n",
       "      <td>NaN</td>\n",
       "    </tr>\n",
       "    <tr>\n",
       "      <th>2</th>\n",
       "      <td>2024-10-11 18:43:56</td>\n",
       "      <td>I will not be using Yelp ever again. After a t...</td>\n",
       "      <td>1</td>\n",
       "      <td>False</td>\n",
       "      <td>jennausuwiajdneka</td>\n",
       "      <td>Horrible</td>\n",
       "      <td>NaN</td>\n",
       "    </tr>\n",
       "    <tr>\n",
       "      <th>3</th>\n",
       "      <td>2024-09-22 20:35:32</td>\n",
       "      <td>During think tank meetings with other business...</td>\n",
       "      <td>1</td>\n",
       "      <td>False</td>\n",
       "      <td>Srepman</td>\n",
       "      <td>Is yelp fair?</td>\n",
       "      <td>{'id': 46973211, 'body': 'Thank you for taking...</td>\n",
       "    </tr>\n",
       "    <tr>\n",
       "      <th>4</th>\n",
       "      <td>2024-12-13 03:52:13</td>\n",
       "      <td>If I could give this place a 0 star I absolute...</td>\n",
       "      <td>1</td>\n",
       "      <td>False</td>\n",
       "      <td>Tsimmons96</td>\n",
       "      <td>Horrible service</td>\n",
       "      <td>NaN</td>\n",
       "    </tr>\n",
       "  </tbody>\n",
       "</table>\n",
       "</div>"
      ],
      "text/plain": [
       "                  date                                             review  \\\n",
       "0  2024-11-22 22:44:23  I say it can be fantastic because some people ...   \n",
       "1  2024-12-12 22:08:33  Yelp's developers have been spamming false 5-s...   \n",
       "2  2024-10-11 18:43:56  I will not be using Yelp ever again. After a t...   \n",
       "3  2024-09-22 20:35:32  During think tank meetings with other business...   \n",
       "4  2024-12-13 03:52:13  If I could give this place a 0 star I absolute...   \n",
       "\n",
       "   rating  isEdited           userName  \\\n",
       "0       5     False             Robg80   \n",
       "1       1     False           itsbad):   \n",
       "2       1     False  jennausuwiajdneka   \n",
       "3       1     False            Srepman   \n",
       "4       1     False         Tsimmons96   \n",
       "\n",
       "                                     title  \\\n",
       "0                    Yelp can be fantastic   \n",
       "1  Review botting should not be tolerated!   \n",
       "2                                 Horrible   \n",
       "3                            Is yelp fair?   \n",
       "4                         Horrible service   \n",
       "\n",
       "                                   developerResponse  \n",
       "0                                                NaN  \n",
       "1                                                NaN  \n",
       "2                                                NaN  \n",
       "3  {'id': 46973211, 'body': 'Thank you for taking...  \n",
       "4                                                NaN  "
      ]
     },
     "execution_count": 3,
     "metadata": {},
     "output_type": "execute_result"
    }
   ],
   "source": [
    "df = pd.read_csv(\"yelp_reviews_v2.csv\")\n",
    "df.drop('Unnamed: 0', axis = 1, inplace = True)\n",
    "df.head(5)"
   ]
  },
  {
   "cell_type": "code",
   "execution_count": 6,
   "id": "1e35b42c",
   "metadata": {},
   "outputs": [
    {
     "data": {
      "text/html": [
       "<div>\n",
       "<style scoped>\n",
       "    .dataframe tbody tr th:only-of-type {\n",
       "        vertical-align: middle;\n",
       "    }\n",
       "\n",
       "    .dataframe tbody tr th {\n",
       "        vertical-align: top;\n",
       "    }\n",
       "\n",
       "    .dataframe thead th {\n",
       "        text-align: right;\n",
       "    }\n",
       "</style>\n",
       "<table border=\"1\" class=\"dataframe\">\n",
       "  <thead>\n",
       "    <tr style=\"text-align: right;\">\n",
       "      <th></th>\n",
       "      <th>date</th>\n",
       "      <th>review</th>\n",
       "      <th>rating</th>\n",
       "      <th>isEdited</th>\n",
       "      <th>userName</th>\n",
       "      <th>title</th>\n",
       "      <th>developerResponse</th>\n",
       "      <th>wordCount</th>\n",
       "    </tr>\n",
       "  </thead>\n",
       "  <tbody>\n",
       "    <tr>\n",
       "      <th>0</th>\n",
       "      <td>2024-11-22 22:44:23</td>\n",
       "      <td>I say it can be fantastic because some people ...</td>\n",
       "      <td>5</td>\n",
       "      <td>False</td>\n",
       "      <td>Robg80</td>\n",
       "      <td>Yelp can be fantastic</td>\n",
       "      <td>NaN</td>\n",
       "      <td>143</td>\n",
       "    </tr>\n",
       "    <tr>\n",
       "      <th>1</th>\n",
       "      <td>2024-12-12 22:08:33</td>\n",
       "      <td>Yelp's developers have been spamming false 5-s...</td>\n",
       "      <td>1</td>\n",
       "      <td>False</td>\n",
       "      <td>itsbad):</td>\n",
       "      <td>Review botting should not be tolerated!</td>\n",
       "      <td>NaN</td>\n",
       "      <td>226</td>\n",
       "    </tr>\n",
       "    <tr>\n",
       "      <th>2</th>\n",
       "      <td>2024-10-11 18:43:56</td>\n",
       "      <td>I will not be using Yelp ever again. After a t...</td>\n",
       "      <td>1</td>\n",
       "      <td>False</td>\n",
       "      <td>jennausuwiajdneka</td>\n",
       "      <td>Horrible</td>\n",
       "      <td>NaN</td>\n",
       "      <td>208</td>\n",
       "    </tr>\n",
       "    <tr>\n",
       "      <th>3</th>\n",
       "      <td>2024-09-22 20:35:32</td>\n",
       "      <td>During think tank meetings with other business...</td>\n",
       "      <td>1</td>\n",
       "      <td>False</td>\n",
       "      <td>Srepman</td>\n",
       "      <td>Is yelp fair?</td>\n",
       "      <td>{'id': 46973211, 'body': 'Thank you for taking...</td>\n",
       "      <td>200</td>\n",
       "    </tr>\n",
       "    <tr>\n",
       "      <th>4</th>\n",
       "      <td>2024-12-13 03:52:13</td>\n",
       "      <td>If I could give this place a 0 star I absolute...</td>\n",
       "      <td>1</td>\n",
       "      <td>False</td>\n",
       "      <td>Tsimmons96</td>\n",
       "      <td>Horrible service</td>\n",
       "      <td>NaN</td>\n",
       "      <td>207</td>\n",
       "    </tr>\n",
       "  </tbody>\n",
       "</table>\n",
       "</div>"
      ],
      "text/plain": [
       "                  date                                             review  \\\n",
       "0  2024-11-22 22:44:23  I say it can be fantastic because some people ...   \n",
       "1  2024-12-12 22:08:33  Yelp's developers have been spamming false 5-s...   \n",
       "2  2024-10-11 18:43:56  I will not be using Yelp ever again. After a t...   \n",
       "3  2024-09-22 20:35:32  During think tank meetings with other business...   \n",
       "4  2024-12-13 03:52:13  If I could give this place a 0 star I absolute...   \n",
       "\n",
       "   rating  isEdited           userName  \\\n",
       "0       5     False             Robg80   \n",
       "1       1     False           itsbad):   \n",
       "2       1     False  jennausuwiajdneka   \n",
       "3       1     False            Srepman   \n",
       "4       1     False         Tsimmons96   \n",
       "\n",
       "                                     title  \\\n",
       "0                    Yelp can be fantastic   \n",
       "1  Review botting should not be tolerated!   \n",
       "2                                 Horrible   \n",
       "3                            Is yelp fair?   \n",
       "4                         Horrible service   \n",
       "\n",
       "                                   developerResponse  wordCount  \n",
       "0                                                NaN        143  \n",
       "1                                                NaN        226  \n",
       "2                                                NaN        208  \n",
       "3  {'id': 46973211, 'body': 'Thank you for taking...        200  \n",
       "4                                                NaN        207  "
      ]
     },
     "execution_count": 6,
     "metadata": {},
     "output_type": "execute_result"
    }
   ],
   "source": [
    "df['wordCount'] = df['review'].apply(lambda x: len(x.split(' ')))\n",
    "df.head(5)"
   ]
  },
  {
   "cell_type": "code",
   "execution_count": 7,
   "id": "f6784197",
   "metadata": {},
   "outputs": [
    {
     "name": "stdout",
     "output_type": "stream",
     "text": [
      "Total words is: 571968\n"
     ]
    }
   ],
   "source": [
    "total_words = np.sum(df['wordCount'])\n",
    "print(f'Total words is: {total_words}')"
   ]
  },
  {
   "cell_type": "markdown",
   "id": "f5c5b78f",
   "metadata": {},
   "source": [
    "### yelp_reviews_v3.csv"
   ]
  },
  {
   "cell_type": "code",
   "execution_count": 9,
   "id": "5152960b",
   "metadata": {},
   "outputs": [
    {
     "name": "stdout",
     "output_type": "stream",
     "text": [
      "Total words is: 1428660\n"
     ]
    }
   ],
   "source": [
    "df = pd.read_csv('yelp_reviews_v3.csv')\n",
    "df.drop('Unnamed: 0', axis = 1, inplace = True)\n",
    "df['wordCount'] = df['review'].apply(lambda x: len(x.split(' ')))\n",
    "total_words = np.sum(df['wordCount'])\n",
    "print(f'Total words is: {total_words}')"
   ]
  }
 ],
 "metadata": {
  "kernelspec": {
   "display_name": "Python 3 (ipykernel)",
   "language": "python",
   "name": "python3"
  },
  "language_info": {
   "codemirror_mode": {
    "name": "ipython",
    "version": 3
   },
   "file_extension": ".py",
   "mimetype": "text/x-python",
   "name": "python",
   "nbconvert_exporter": "python",
   "pygments_lexer": "ipython3",
   "version": "3.9.19"
  }
 },
 "nbformat": 4,
 "nbformat_minor": 5
}
