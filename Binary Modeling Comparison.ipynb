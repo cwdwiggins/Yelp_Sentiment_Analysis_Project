{
 "cells": [
  {
   "cell_type": "markdown",
   "id": "191554cb",
   "metadata": {},
   "source": [
    "## Binary Modeling Comparison"
   ]
  },
  {
   "cell_type": "markdown",
   "id": "00f46266",
   "metadata": {},
   "source": [
    "The purpose of this notebook is to compare the performance of random forest models on a binary output instead of the multiclass output for the Yelp NLP project."
   ]
  },
  {
   "cell_type": "markdown",
   "id": "6b1e3630",
   "metadata": {},
   "source": [
    "### Import the data and the libraries"
   ]
  },
  {
   "cell_type": "code",
   "execution_count": 1,
   "id": "e1d38c9b",
   "metadata": {},
   "outputs": [],
   "source": [
    "# Data handling and visualization\n",
    "import numpy as np\n",
    "import pandas as pd\n",
    "import matplotlib.pyplot as plt\n",
    "\n",
    "# Modeling\n",
    "from sklearn.model_selection import train_test_split\n",
    "from sklearn.ensemble import RandomForestClassifier\n",
    "from sklearn.metrics import classification_report, accuracy_score\n",
    "from sklearn.metrics import confusion_matrix, ConfusionMatrixDisplay"
   ]
  },
  {
   "cell_type": "code",
   "execution_count": 2,
   "id": "a740e00f",
   "metadata": {},
   "outputs": [
    {
     "data": {
      "text/html": [
       "<div>\n",
       "<style scoped>\n",
       "    .dataframe tbody tr th:only-of-type {\n",
       "        vertical-align: middle;\n",
       "    }\n",
       "\n",
       "    .dataframe tbody tr th {\n",
       "        vertical-align: top;\n",
       "    }\n",
       "\n",
       "    .dataframe thead th {\n",
       "        text-align: right;\n",
       "    }\n",
       "</style>\n",
       "<table border=\"1\" class=\"dataframe\">\n",
       "  <thead>\n",
       "    <tr style=\"text-align: right;\">\n",
       "      <th></th>\n",
       "      <th>date</th>\n",
       "      <th>review</th>\n",
       "      <th>rating</th>\n",
       "      <th>title</th>\n",
       "      <th>review_prepped</th>\n",
       "      <th>title_prepped</th>\n",
       "      <th>review_tokens</th>\n",
       "      <th>review_POSes</th>\n",
       "      <th>title_tokens</th>\n",
       "      <th>title_POSes</th>\n",
       "    </tr>\n",
       "  </thead>\n",
       "  <tbody>\n",
       "    <tr>\n",
       "      <th>0</th>\n",
       "      <td>2024-11-16 17:12:47</td>\n",
       "      <td>let me tell you why I named this and encouragi...</td>\n",
       "      <td>5</td>\n",
       "      <td>Encouraging App</td>\n",
       "      <td>['let/VERB', 'me/PRON', 'tell/VERB', 'you/PRON...</td>\n",
       "      <td>['encouraging/VERB', 'app/NOUN']</td>\n",
       "      <td>let me tell you why i named this and encouragi...</td>\n",
       "      <td>VERB PRON VERB PRON SCONJ PRON VERB PRON CCONJ...</td>\n",
       "      <td>encouraging app</td>\n",
       "      <td>VERB NOUN</td>\n",
       "    </tr>\n",
       "    <tr>\n",
       "      <th>1</th>\n",
       "      <td>2024-11-13 19:31:04</td>\n",
       "      <td>I vaguely remember yelp being a positive exper...</td>\n",
       "      <td>1</td>\n",
       "      <td>Unreliable Dishonest Shady….  Let’s Cancel Yelp!</td>\n",
       "      <td>['i/PRON', 'vaguely/ADV', 'remember/VERB', 'ye...</td>\n",
       "      <td>['unreliable/ADJ', 'dishonest/INTJ', 'let/VERB...</td>\n",
       "      <td>i vaguely remember yelp being a positive exper...</td>\n",
       "      <td>PRON ADV VERB NOUN AUX DET ADJ NOUN PRON AUX A...</td>\n",
       "      <td>unreliable dishonest let us cancel yelp</td>\n",
       "      <td>ADJ INTJ VERB PRON VERB NOUN</td>\n",
       "    </tr>\n",
       "    <tr>\n",
       "      <th>2</th>\n",
       "      <td>2024-10-11 18:43:56</td>\n",
       "      <td>I will not be using Yelp ever again. After a t...</td>\n",
       "      <td>1</td>\n",
       "      <td>Horrible</td>\n",
       "      <td>['i/PRON', 'will/AUX', 'not/PART', 'be/AUX', '...</td>\n",
       "      <td>['horrible/ADJ']</td>\n",
       "      <td>i will not be using yelp ever again after a te...</td>\n",
       "      <td>PRON AUX PART AUX VERB NOUN ADV ADV ADP DET AD...</td>\n",
       "      <td>horrible</td>\n",
       "      <td>ADJ</td>\n",
       "    </tr>\n",
       "    <tr>\n",
       "      <th>3</th>\n",
       "      <td>2024-09-22 20:35:32</td>\n",
       "      <td>During think tank meetings with other business...</td>\n",
       "      <td>1</td>\n",
       "      <td>Is yelp fair?</td>\n",
       "      <td>['during/ADP', 'think/NOUN', 'tank/NOUN', 'mee...</td>\n",
       "      <td>['is/AUX', 'yelp/NOUN', 'fair/ADJ']</td>\n",
       "      <td>during think tank meetings with other business...</td>\n",
       "      <td>ADP NOUN NOUN NOUN ADP ADJ NOUN NOUN ADP PRON ...</td>\n",
       "      <td>is yelp fair</td>\n",
       "      <td>AUX NOUN ADJ</td>\n",
       "    </tr>\n",
       "    <tr>\n",
       "      <th>4</th>\n",
       "      <td>2024-10-24 17:15:35</td>\n",
       "      <td>Brought my 2023 car, with 15,454 miles, to hav...</td>\n",
       "      <td>1</td>\n",
       "      <td>Discount Tire - Plymouth, MN</td>\n",
       "      <td>['brought/VERB', 'my/PRON', 'car/NOUN', 'with/...</td>\n",
       "      <td>['discount/NOUN', 'tire/NOUN', 'plymouth/PROPN...</td>\n",
       "      <td>brought my car with miles to have my snow tire...</td>\n",
       "      <td>VERB PRON NOUN ADP NOUN PART VERB PRON NOUN NO...</td>\n",
       "      <td>discount tire plymouth mn</td>\n",
       "      <td>NOUN NOUN PROPN NOUN</td>\n",
       "    </tr>\n",
       "  </tbody>\n",
       "</table>\n",
       "</div>"
      ],
      "text/plain": [
       "                  date                                             review  \\\n",
       "0  2024-11-16 17:12:47  let me tell you why I named this and encouragi...   \n",
       "1  2024-11-13 19:31:04  I vaguely remember yelp being a positive exper...   \n",
       "2  2024-10-11 18:43:56  I will not be using Yelp ever again. After a t...   \n",
       "3  2024-09-22 20:35:32  During think tank meetings with other business...   \n",
       "4  2024-10-24 17:15:35  Brought my 2023 car, with 15,454 miles, to hav...   \n",
       "\n",
       "   rating                                             title  \\\n",
       "0       5                                   Encouraging App   \n",
       "1       1  Unreliable Dishonest Shady….  Let’s Cancel Yelp!   \n",
       "2       1                                          Horrible   \n",
       "3       1                                     Is yelp fair?   \n",
       "4       1                      Discount Tire - Plymouth, MN   \n",
       "\n",
       "                                      review_prepped  \\\n",
       "0  ['let/VERB', 'me/PRON', 'tell/VERB', 'you/PRON...   \n",
       "1  ['i/PRON', 'vaguely/ADV', 'remember/VERB', 'ye...   \n",
       "2  ['i/PRON', 'will/AUX', 'not/PART', 'be/AUX', '...   \n",
       "3  ['during/ADP', 'think/NOUN', 'tank/NOUN', 'mee...   \n",
       "4  ['brought/VERB', 'my/PRON', 'car/NOUN', 'with/...   \n",
       "\n",
       "                                       title_prepped  \\\n",
       "0                   ['encouraging/VERB', 'app/NOUN']   \n",
       "1  ['unreliable/ADJ', 'dishonest/INTJ', 'let/VERB...   \n",
       "2                                   ['horrible/ADJ']   \n",
       "3                ['is/AUX', 'yelp/NOUN', 'fair/ADJ']   \n",
       "4  ['discount/NOUN', 'tire/NOUN', 'plymouth/PROPN...   \n",
       "\n",
       "                                       review_tokens  \\\n",
       "0  let me tell you why i named this and encouragi...   \n",
       "1  i vaguely remember yelp being a positive exper...   \n",
       "2  i will not be using yelp ever again after a te...   \n",
       "3  during think tank meetings with other business...   \n",
       "4  brought my car with miles to have my snow tire...   \n",
       "\n",
       "                                        review_POSes  \\\n",
       "0  VERB PRON VERB PRON SCONJ PRON VERB PRON CCONJ...   \n",
       "1  PRON ADV VERB NOUN AUX DET ADJ NOUN PRON AUX A...   \n",
       "2  PRON AUX PART AUX VERB NOUN ADV ADV ADP DET AD...   \n",
       "3  ADP NOUN NOUN NOUN ADP ADJ NOUN NOUN ADP PRON ...   \n",
       "4  VERB PRON NOUN ADP NOUN PART VERB PRON NOUN NO...   \n",
       "\n",
       "                              title_tokens                   title_POSes  \n",
       "0                          encouraging app                     VERB NOUN  \n",
       "1  unreliable dishonest let us cancel yelp  ADJ INTJ VERB PRON VERB NOUN  \n",
       "2                                 horrible                           ADJ  \n",
       "3                             is yelp fair                  AUX NOUN ADJ  \n",
       "4                discount tire plymouth mn          NOUN NOUN PROPN NOUN  "
      ]
     },
     "execution_count": 2,
     "metadata": {},
     "output_type": "execute_result"
    }
   ],
   "source": [
    "# Import the data\n",
    "reviews = pd.read_csv(\"reviews_prep.csv\")\n",
    "reviews.drop('Unnamed: 0', axis = 1, inplace = True)\n",
    "reviews.head(5)"
   ]
  },
  {
   "cell_type": "markdown",
   "id": "42eddca4",
   "metadata": {},
   "source": [
    "### Prepare the data"
   ]
  },
  {
   "cell_type": "code",
   "execution_count": 6,
   "id": "515e02bc",
   "metadata": {},
   "outputs": [],
   "source": [
    "# 1. Put the reviews and labels together\n",
    "reviews_labels = reviews.loc[:, ('review_tokens', 'rating')]\n",
    "\n",
    "# 2. Convert the labels to positive (1) or negative (0)\n",
    "def recategorize(label):\n",
    "    if label == 4 or label == 5:\n",
    "        return int(1)\n",
    "    elif label == 1 or label == 2:\n",
    "        return int(0)\n",
    "    else:\n",
    "        return np.nan\n",
    "\n",
    "reviews_labels['rating'] = reviews_labels['rating'].apply(recategorize)"
   ]
  },
  {
   "cell_type": "code",
   "execution_count": 7,
   "id": "01a52f7c",
   "metadata": {},
   "outputs": [
    {
     "data": {
      "text/html": [
       "<div>\n",
       "<style scoped>\n",
       "    .dataframe tbody tr th:only-of-type {\n",
       "        vertical-align: middle;\n",
       "    }\n",
       "\n",
       "    .dataframe tbody tr th {\n",
       "        vertical-align: top;\n",
       "    }\n",
       "\n",
       "    .dataframe thead th {\n",
       "        text-align: right;\n",
       "    }\n",
       "</style>\n",
       "<table border=\"1\" class=\"dataframe\">\n",
       "  <thead>\n",
       "    <tr style=\"text-align: right;\">\n",
       "      <th></th>\n",
       "      <th>count</th>\n",
       "    </tr>\n",
       "    <tr>\n",
       "      <th>rating</th>\n",
       "      <th></th>\n",
       "    </tr>\n",
       "  </thead>\n",
       "  <tbody>\n",
       "    <tr>\n",
       "      <th>0.0</th>\n",
       "      <td>1095</td>\n",
       "    </tr>\n",
       "    <tr>\n",
       "      <th>1.0</th>\n",
       "      <td>1578</td>\n",
       "    </tr>\n",
       "  </tbody>\n",
       "</table>\n",
       "</div>"
      ],
      "text/plain": [
       "        count\n",
       "rating       \n",
       "0.0      1095\n",
       "1.0      1578"
      ]
     },
     "execution_count": 7,
     "metadata": {},
     "output_type": "execute_result"
    }
   ],
   "source": [
    "# Examine distribution of labels\n",
    "reviews_labels.groupby(['rating'])['rating'].agg(['count'])"
   ]
  },
  {
   "cell_type": "code",
   "execution_count": 13,
   "id": "dd94e134",
   "metadata": {},
   "outputs": [],
   "source": [
    "# 3. Separate the positive from the negative\n",
    "positive_reviews = reviews_labels[reviews_labels['rating'] == 1]\n",
    "negative_reviews = reviews_labels[reviews_labels['rating'] == 0]\n",
    "\n",
    "# 4.Sample the positive reviews to match the size of the negative reviews\n",
    "positive_reviews = positive_reviews.sample(n = len(negative_reviews), random_state = 3)\n",
    "\n",
    "# 5. Combine the data\n",
    "reviews_balanced = pd.concat([positive_reviews, negative_reviews])\n",
    "\n",
    "# 6. Sort the data according to index\n",
    "reviews_balanced_sorted = reviews_balanced.sort_index()\n",
    "\n",
    "# 7. Drop any NaNs\n",
    "reviews_balanced_sorted.dropna(axis = 0, how = 'any', inplace = True)"
   ]
  },
  {
   "cell_type": "code",
   "execution_count": 14,
   "id": "bc66d3d2",
   "metadata": {},
   "outputs": [
    {
     "data": {
      "text/plain": [
       "(2190, 2)"
      ]
     },
     "execution_count": 14,
     "metadata": {},
     "output_type": "execute_result"
    }
   ],
   "source": [
    "reviews_balanced_sorted.shape"
   ]
  },
  {
   "cell_type": "code",
   "execution_count": 16,
   "id": "4e9122a5",
   "metadata": {},
   "outputs": [
    {
     "data": {
      "text/html": [
       "<div>\n",
       "<style scoped>\n",
       "    .dataframe tbody tr th:only-of-type {\n",
       "        vertical-align: middle;\n",
       "    }\n",
       "\n",
       "    .dataframe tbody tr th {\n",
       "        vertical-align: top;\n",
       "    }\n",
       "\n",
       "    .dataframe thead th {\n",
       "        text-align: right;\n",
       "    }\n",
       "</style>\n",
       "<table border=\"1\" class=\"dataframe\">\n",
       "  <thead>\n",
       "    <tr style=\"text-align: right;\">\n",
       "      <th></th>\n",
       "      <th>count</th>\n",
       "    </tr>\n",
       "    <tr>\n",
       "      <th>rating</th>\n",
       "      <th></th>\n",
       "    </tr>\n",
       "  </thead>\n",
       "  <tbody>\n",
       "    <tr>\n",
       "      <th>0.0</th>\n",
       "      <td>1095</td>\n",
       "    </tr>\n",
       "    <tr>\n",
       "      <th>1.0</th>\n",
       "      <td>1095</td>\n",
       "    </tr>\n",
       "  </tbody>\n",
       "</table>\n",
       "</div>"
      ],
      "text/plain": [
       "        count\n",
       "rating       \n",
       "0.0      1095\n",
       "1.0      1095"
      ]
     },
     "execution_count": 16,
     "metadata": {},
     "output_type": "execute_result"
    }
   ],
   "source": [
    "reviews_balanced_sorted.groupby(['rating'])['rating'].agg(['count'])"
   ]
  },
  {
   "cell_type": "markdown",
   "id": "d6375ff9",
   "metadata": {},
   "source": [
    "### Modeling and Evaluation"
   ]
  },
  {
   "cell_type": "code",
   "execution_count": 19,
   "id": "761ddba4",
   "metadata": {},
   "outputs": [],
   "source": [
    "# Set up X and y\n",
    "X = reviews_balanced_sorted['review_tokens']\n",
    "y = reviews_balanced_sorted['rating']"
   ]
  },
  {
   "cell_type": "code",
   "execution_count": 20,
   "id": "312f942e",
   "metadata": {},
   "outputs": [],
   "source": [
    "# Create a count vecotorized version of X\n",
    "from sklearn.feature_extraction.text import CountVectorizer\n",
    "\n",
    "cvec = CountVectorizer()\n",
    "cvec.fit(X)\n",
    "X_cvec = cvec.transform(X)\n",
    "X_cvec_df = pd.DataFrame(X_cvec.toarray(), columns = cvec.get_feature_names_out())\n",
    "\n",
    "# Create a tf-idf transformed version of X\n",
    "from sklearn.feature_extraction.text import TfidfVectorizer\n",
    "\n",
    "tfidf = TfidfVectorizer()\n",
    "tfidf.fit(X)\n",
    "X_tfidf = tfidf.transform(X)\n",
    "X_tfidf_df = pd.DataFrame(X_tfidf.toarray(), columns = tfidf.get_feature_names_out())"
   ]
  },
  {
   "cell_type": "code",
   "execution_count": 21,
   "id": "25d85601",
   "metadata": {},
   "outputs": [],
   "source": [
    "# Train test split for each dataset\n",
    "X_cvec_train, X_cvec_test, y_cvec_train, y_cvec_test = train_test_split(X_cvec_df, y, test_size=0.2, random_state=3)\n",
    "X_tfidf_train, X_tfidf_test, y_tfidf_train, y_tfidf_test = train_test_split(X_tfidf_df, y, test_size=0.2, random_state=3)\n",
    "\n",
    "# Train the models\n",
    "rf_mdl_cvec = RandomForestClassifier(random_state = 3)\n",
    "rf_mdl_tfidf = RandomForestClassifier(random_state = 3)\n",
    "\n",
    "rf_mdl_cvec.fit(X_cvec_train, y_cvec_train)\n",
    "rf_mdl_tfidf.fit(X_tfidf_train, y_tfidf_train)\n",
    "\n",
    "# Make predictions\n",
    "y_pred_cvec = rf_mdl_cvec.predict(X_cvec_test)\n",
    "y_pred_tfidf = rf_mdl_tfidf.predict(X_tfidf_test)"
   ]
  },
  {
   "cell_type": "code",
   "execution_count": 22,
   "id": "6edfcd61",
   "metadata": {},
   "outputs": [],
   "source": [
    "# Evaluation for cvec\n",
    "cf_cvec = confusion_matrix(y_cvec_test, y_pred_cvec, labels = rf_mdl_cvec.classes_)\n",
    "cf_tfidf = confusion_matrix(y_tfidf_test, y_pred_tfidf, labels = rf_mdl_tfidf.classes_)"
   ]
  },
  {
   "cell_type": "code",
   "execution_count": 24,
   "id": "6e7afac6",
   "metadata": {},
   "outputs": [
    {
     "data": {
      "image/png": "[encoded data removed]",
      "text/plain": [
       "<Figure size 640x480 with 2 Axes>"
      ]
     },
     "metadata": {},
     "output_type": "display_data"
    }
   ],
   "source": [
    "# Display confusion matrix 1\n",
    "disp_cvec = ConfusionMatrixDisplay(confusion_matrix = cf_cvec, display_labels = rf_mdl_cvec.classes_)\n",
    "disp_cvec.plot()\n",
    "plt.title('Confusion Matrix for RF Model Built on Count Vectorizor')\n",
    "plt.show()"
   ]
  },
  {
   "cell_type": "code",
   "execution_count": 26,
   "id": "66b8eaf9",
   "metadata": {},
   "outputs": [
    {
     "name": "stdout",
     "output_type": "stream",
     "text": [
      "              precision    recall  f1-score   support\n",
      "\n",
      "         0.0       0.92      0.90      0.91       210\n",
      "         1.0       0.91      0.93      0.92       228\n",
      "\n",
      "    accuracy                           0.91       438\n",
      "   macro avg       0.91      0.91      0.91       438\n",
      "weighted avg       0.91      0.91      0.91       438\n",
      "\n"
     ]
    }
   ],
   "source": [
    "print(classification_report(y_cvec_test, y_pred_cvec))"
   ]
  },
  {
   "cell_type": "code",
   "execution_count": 25,
   "id": "c90f6180",
   "metadata": {},
   "outputs": [
    {
     "data": {
      "image/png": "[encoded data removed]",
      "text/plain": [
       "<Figure size 640x480 with 2 Axes>"
      ]
     },
     "metadata": {},
     "output_type": "display_data"
    }
   ],
   "source": [
    "# Display confusion matrix 2\n",
    "disp_tfidf = ConfusionMatrixDisplay(confusion_matrix = cf_tfidf, display_labels = rf_mdl_tfidf.classes_)\n",
    "disp_tfidf.plot()\n",
    "plt.title('Confusion Matrix for RF Model Built on Tf-idf')\n",
    "plt.show()"
   ]
  },
  {
   "cell_type": "code",
   "execution_count": 27,
   "id": "f41e7b9d",
   "metadata": {},
   "outputs": [
    {
     "name": "stdout",
     "output_type": "stream",
     "text": [
      "              precision    recall  f1-score   support\n",
      "\n",
      "         0.0       0.90      0.94      0.92       210\n",
      "         1.0       0.94      0.91      0.92       228\n",
      "\n",
      "    accuracy                           0.92       438\n",
      "   macro avg       0.92      0.92      0.92       438\n",
      "weighted avg       0.92      0.92      0.92       438\n",
      "\n"
     ]
    }
   ],
   "source": [
    "print(classification_report(y_tfidf_test, y_pred_tfidf))"
   ]
  }
 ],
 "metadata": {
  "kernelspec": {
   "display_name": "Python 3 (ipykernel)",
   "language": "python",
   "name": "python3"
  },
  "language_info": {
   "codemirror_mode": {
    "name": "ipython",
    "version": 3
   },
   "file_extension": ".py",
   "mimetype": "text/x-python",
   "name": "python",
   "nbconvert_exporter": "python",
   "pygments_lexer": "ipython3",
   "version": "3.9.19"
  }
 },
 "nbformat": 4,
 "nbformat_minor": 5
}
