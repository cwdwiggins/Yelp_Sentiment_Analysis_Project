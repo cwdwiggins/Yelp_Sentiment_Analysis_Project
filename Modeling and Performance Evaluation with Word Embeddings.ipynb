{
 "cells": [
  {
   "cell_type": "markdown",
   "id": "77148e54",
   "metadata": {},
   "source": [
    "# Modeling and Performance Evaluation with Word Embeddings"
   ]
  },
  {
   "cell_type": "markdown",
   "id": "c0911acc",
   "metadata": {},
   "source": [
    "The purpose of this notebook is to compare the performance of several models that utilize the word embedding method instead of the bag of words method"
   ]
  },
  {
   "cell_type": "code",
   "execution_count": 1,
   "id": "6e164f13",
   "metadata": {},
   "outputs": [],
   "source": [
    "import gensim\n",
    "from gensim import utils\n",
    "import tempfile\n",
    "import numpy as np\n",
    "import pandas as pd\n",
    "import os\n",
    "import matplotlib.pyplot as plt\n",
    "\n",
    "# Modeling\n",
    "from sklearn.model_selection import train_test_split\n",
    "from sklearn.ensemble import RandomForestClassifier\n",
    "from sklearn.metrics import classification_report, accuracy_score\n",
    "from sklearn.metrics import confusion_matrix, ConfusionMatrixDisplay"
   ]
  },
  {
   "cell_type": "code",
   "execution_count": 2,
   "id": "97787034",
   "metadata": {},
   "outputs": [],
   "source": [
    "# Load the genims model\n",
    "model_name = 'gensim-model-i5jx6hf4'\n",
    "model = gensim.models.Word2Vec.load(model_name)"
   ]
  },
  {
   "cell_type": "markdown",
   "id": "8f61db99",
   "metadata": {},
   "source": [
    "## Binary Labels"
   ]
  },
  {
   "cell_type": "markdown",
   "id": "5841fd90",
   "metadata": {},
   "source": [
    "The first section of this notebook will test the model's performance with binary labels, that is, positive (1) or negative (0) reviews. This will create a baseline model performance and will be compared to a multiclass case, as well as the other classifiers that used arrays generated from the bag-of-words and the tf-idf approaches."
   ]
  },
  {
   "cell_type": "markdown",
   "id": "68975414",
   "metadata": {},
   "source": [
    "### Re-create the dataframe using the model"
   ]
  },
  {
   "cell_type": "code",
   "execution_count": 3,
   "id": "763bdc3c",
   "metadata": {},
   "outputs": [],
   "source": [
    "# Define functions needed\n",
    "# This calculates and returns an average word vector for a document\n",
    "def word_vector(tokens, size):\n",
    "    vec = np.zeros(size).reshape((1, size))\n",
    "    count = 0\n",
    "    for token in tokens:\n",
    "        try:\n",
    "            vec += model.wv[token].reshape((1, size))\n",
    "            count += 1\n",
    "        except KeyError: # handle out of vocabulary errors\n",
    "            continue\n",
    "    if count != 0:\n",
    "        vec /= count\n",
    "        return vec\n",
    "\n",
    "# This calculates and returns the number of documents in a corpus so the array is constructed correctly\n",
    "def calculate_num_docs(corpus):\n",
    "    num_docs = 0\n",
    "    for i, doc in enumerate(corpus):\n",
    "        num_docs += 1\n",
    "    return num_docs"
   ]
  },
  {
   "cell_type": "code",
   "execution_count": 4,
   "id": "6623396a",
   "metadata": {},
   "outputs": [
    {
     "data": {
      "text/html": [
       "<div>\n",
       "<style scoped>\n",
       "    .dataframe tbody tr th:only-of-type {\n",
       "        vertical-align: middle;\n",
       "    }\n",
       "\n",
       "    .dataframe tbody tr th {\n",
       "        vertical-align: top;\n",
       "    }\n",
       "\n",
       "    .dataframe thead th {\n",
       "        text-align: right;\n",
       "    }\n",
       "</style>\n",
       "<table border=\"1\" class=\"dataframe\">\n",
       "  <thead>\n",
       "    <tr style=\"text-align: right;\">\n",
       "      <th></th>\n",
       "      <th>date</th>\n",
       "      <th>review</th>\n",
       "      <th>rating</th>\n",
       "      <th>isEdited</th>\n",
       "      <th>title</th>\n",
       "      <th>userName</th>\n",
       "      <th>developerResponse</th>\n",
       "    </tr>\n",
       "  </thead>\n",
       "  <tbody>\n",
       "    <tr>\n",
       "      <th>0</th>\n",
       "      <td>2024-11-22 22:44:23</td>\n",
       "      <td>I say it can be fantastic because some people ...</td>\n",
       "      <td>5</td>\n",
       "      <td>False</td>\n",
       "      <td>Yelp can be fantastic</td>\n",
       "      <td>Robg80</td>\n",
       "      <td>NaN</td>\n",
       "    </tr>\n",
       "    <tr>\n",
       "      <th>1</th>\n",
       "      <td>2024-12-12 22:08:33</td>\n",
       "      <td>Yelp's developers have been spamming false 5-s...</td>\n",
       "      <td>1</td>\n",
       "      <td>False</td>\n",
       "      <td>Review botting should not be tolerated!</td>\n",
       "      <td>itsbad):</td>\n",
       "      <td>NaN</td>\n",
       "    </tr>\n",
       "    <tr>\n",
       "      <th>2</th>\n",
       "      <td>2024-10-11 18:43:56</td>\n",
       "      <td>I will not be using Yelp ever again. After a t...</td>\n",
       "      <td>1</td>\n",
       "      <td>False</td>\n",
       "      <td>Horrible</td>\n",
       "      <td>jennausuwiajdneka</td>\n",
       "      <td>NaN</td>\n",
       "    </tr>\n",
       "    <tr>\n",
       "      <th>3</th>\n",
       "      <td>2024-09-22 20:35:32</td>\n",
       "      <td>During think tank meetings with other business...</td>\n",
       "      <td>1</td>\n",
       "      <td>False</td>\n",
       "      <td>Is yelp fair?</td>\n",
       "      <td>Srepman</td>\n",
       "      <td>{'id': 46973211, 'body': 'Thank you for taking...</td>\n",
       "    </tr>\n",
       "    <tr>\n",
       "      <th>4</th>\n",
       "      <td>2024-12-13 03:52:13</td>\n",
       "      <td>If I could give this place a 0 star I absolute...</td>\n",
       "      <td>1</td>\n",
       "      <td>False</td>\n",
       "      <td>Horrible service</td>\n",
       "      <td>Tsimmons96</td>\n",
       "      <td>NaN</td>\n",
       "    </tr>\n",
       "  </tbody>\n",
       "</table>\n",
       "</div>"
      ],
      "text/plain": [
       "                  date                                             review  \\\n",
       "0  2024-11-22 22:44:23  I say it can be fantastic because some people ...   \n",
       "1  2024-12-12 22:08:33  Yelp's developers have been spamming false 5-s...   \n",
       "2  2024-10-11 18:43:56  I will not be using Yelp ever again. After a t...   \n",
       "3  2024-09-22 20:35:32  During think tank meetings with other business...   \n",
       "4  2024-12-13 03:52:13  If I could give this place a 0 star I absolute...   \n",
       "\n",
       "   rating  isEdited                                    title  \\\n",
       "0       5     False                    Yelp can be fantastic   \n",
       "1       1     False  Review botting should not be tolerated!   \n",
       "2       1     False                                 Horrible   \n",
       "3       1     False                            Is yelp fair?   \n",
       "4       1     False                         Horrible service   \n",
       "\n",
       "            userName                                  developerResponse  \n",
       "0             Robg80                                                NaN  \n",
       "1           itsbad):                                                NaN  \n",
       "2  jennausuwiajdneka                                                NaN  \n",
       "3            Srepman  {'id': 46973211, 'body': 'Thank you for taking...  \n",
       "4         Tsimmons96                                                NaN  "
      ]
     },
     "execution_count": 4,
     "metadata": {},
     "output_type": "execute_result"
    }
   ],
   "source": [
    "# Import the reviews dataframe\n",
    "yelp_reviews = pd.read_csv('yelp_reviews_v3.csv')\n",
    "yelp_reviews.drop(\"Unnamed: 0\", axis = 1, inplace = True)\n",
    "yelp_reviews.head(5)"
   ]
  },
  {
   "cell_type": "code",
   "execution_count": 5,
   "id": "d4d3ecec",
   "metadata": {},
   "outputs": [],
   "source": [
    "# Extract the reviews and the ratings\n",
    "reviews = yelp_reviews['review']\n",
    "ratings = yelp_reviews['rating']"
   ]
  },
  {
   "cell_type": "code",
   "execution_count": 6,
   "id": "5b268c86",
   "metadata": {},
   "outputs": [],
   "source": [
    "# Define a generator that will yield each document and preprocess it\n",
    "class CorpusGenerator:\n",
    "    def __iter__(self):\n",
    "        for doc in yelp_reviews['review']:\n",
    "            yield utils.simple_preprocess(doc)"
   ]
  },
  {
   "cell_type": "code",
   "execution_count": 7,
   "id": "bb58979f",
   "metadata": {},
   "outputs": [],
   "source": [
    "# Use the functions to create the new dataframe\n",
    "yelp_corpus = CorpusGenerator()\n",
    "\n",
    "num_docs = calculate_num_docs(yelp_corpus) # calculate the number of docs to determine the number of rows needed\n",
    "\n",
    "wordvec_arrays = np.zeros((num_docs, 300)) # 300 dimensions/features for each word vector\n",
    "\n",
    "for i, doc in enumerate(yelp_corpus):\n",
    "    wordvec_arrays[i, :] = word_vector(doc, 300) # change each row (doc) to the corresponding word vector\n",
    "    \n",
    "wordvec_df = pd.DataFrame(wordvec_arrays)"
   ]
  },
  {
   "cell_type": "code",
   "execution_count": 8,
   "id": "4a5ff82e",
   "metadata": {},
   "outputs": [
    {
     "data": {
      "text/plain": [
       "(20000, 300)"
      ]
     },
     "execution_count": 8,
     "metadata": {},
     "output_type": "execute_result"
    }
   ],
   "source": [
    "wordvec_df.shape"
   ]
  },
  {
   "cell_type": "markdown",
   "id": "bdde077e",
   "metadata": {},
   "source": [
    "As shown, we have 300 features instead of the many more that came with the bag of words and tf-idf models"
   ]
  },
  {
   "cell_type": "markdown",
   "id": "77e2ef35",
   "metadata": {},
   "source": [
    "### Modeling with the wordvec dataframe"
   ]
  },
  {
   "cell_type": "code",
   "execution_count": 9,
   "id": "022c7024",
   "metadata": {},
   "outputs": [
    {
     "data": {
      "image/png": "[encoded data removed]",
      "text/plain": [
       "<Figure size 640x480 with 1 Axes>"
      ]
     },
     "metadata": {},
     "output_type": "display_data"
    }
   ],
   "source": [
    "# View the distribution of ratings graphically\n",
    "ratings_count = yelp_reviews.groupby(['rating'])['rating'].agg(['count'])\n",
    "plt.figure()\n",
    "plt.bar(ratings_count.index, ratings_count['count'], color = 'blue')\n",
    "plt.xlabel('rating')\n",
    "plt.ylabel('count')\n",
    "plt.title('Distribution of ratings')\n",
    "plt.show()"
   ]
  },
  {
   "cell_type": "code",
   "execution_count": 10,
   "id": "cceafe2d",
   "metadata": {},
   "outputs": [
    {
     "data": {
      "text/html": [
       "<div>\n",
       "<style scoped>\n",
       "    .dataframe tbody tr th:only-of-type {\n",
       "        vertical-align: middle;\n",
       "    }\n",
       "\n",
       "    .dataframe tbody tr th {\n",
       "        vertical-align: top;\n",
       "    }\n",
       "\n",
       "    .dataframe thead th {\n",
       "        text-align: right;\n",
       "    }\n",
       "</style>\n",
       "<table border=\"1\" class=\"dataframe\">\n",
       "  <thead>\n",
       "    <tr style=\"text-align: right;\">\n",
       "      <th></th>\n",
       "      <th>count</th>\n",
       "    </tr>\n",
       "    <tr>\n",
       "      <th>rating</th>\n",
       "      <th></th>\n",
       "    </tr>\n",
       "  </thead>\n",
       "  <tbody>\n",
       "    <tr>\n",
       "      <th>1</th>\n",
       "      <td>4509</td>\n",
       "    </tr>\n",
       "    <tr>\n",
       "      <th>2</th>\n",
       "      <td>948</td>\n",
       "    </tr>\n",
       "    <tr>\n",
       "      <th>3</th>\n",
       "      <td>765</td>\n",
       "    </tr>\n",
       "    <tr>\n",
       "      <th>4</th>\n",
       "      <td>914</td>\n",
       "    </tr>\n",
       "    <tr>\n",
       "      <th>5</th>\n",
       "      <td>12864</td>\n",
       "    </tr>\n",
       "  </tbody>\n",
       "</table>\n",
       "</div>"
      ],
      "text/plain": [
       "        count\n",
       "rating       \n",
       "1        4509\n",
       "2         948\n",
       "3         765\n",
       "4         914\n",
       "5       12864"
      ]
     },
     "execution_count": 10,
     "metadata": {},
     "output_type": "execute_result"
    }
   ],
   "source": [
    "# View the distribution of ratings numerically\n",
    "ratings_count"
   ]
  },
  {
   "cell_type": "markdown",
   "id": "e0457203",
   "metadata": {},
   "source": [
    "The reviews will be combined to binary labels and downsampled."
   ]
  },
  {
   "cell_type": "code",
   "execution_count": 11,
   "id": "ef6ccbdc",
   "metadata": {},
   "outputs": [],
   "source": [
    "# 1. Combine the labels with the data\n",
    "wordvec_df['label'] = ratings"
   ]
  },
  {
   "cell_type": "code",
   "execution_count": 12,
   "id": "7b16d32a",
   "metadata": {},
   "outputs": [],
   "source": [
    "# 2. Combine rating categories 1 and 2, and 4 and 5, drop ratings with '3'\n",
    "def recategorize(rating):\n",
    "    if rating == 1 or rating == 2:\n",
    "        return int(0) # negative reviews are given a 0\n",
    "    elif rating == 4 or rating == 5:\n",
    "        return int(1) # positive reviews are given a 1\n",
    "    else:\n",
    "        return np.nan\n",
    "\n",
    "wordvec_df['label'] = wordvec_df['label'].apply(recategorize)"
   ]
  },
  {
   "cell_type": "code",
   "execution_count": 13,
   "id": "088834bc",
   "metadata": {},
   "outputs": [
    {
     "data": {
      "text/html": [
       "<div>\n",
       "<style scoped>\n",
       "    .dataframe tbody tr th:only-of-type {\n",
       "        vertical-align: middle;\n",
       "    }\n",
       "\n",
       "    .dataframe tbody tr th {\n",
       "        vertical-align: top;\n",
       "    }\n",
       "\n",
       "    .dataframe thead th {\n",
       "        text-align: right;\n",
       "    }\n",
       "</style>\n",
       "<table border=\"1\" class=\"dataframe\">\n",
       "  <thead>\n",
       "    <tr style=\"text-align: right;\">\n",
       "      <th></th>\n",
       "      <th>0</th>\n",
       "      <th>1</th>\n",
       "      <th>2</th>\n",
       "      <th>3</th>\n",
       "      <th>4</th>\n",
       "      <th>5</th>\n",
       "      <th>6</th>\n",
       "      <th>7</th>\n",
       "      <th>8</th>\n",
       "      <th>9</th>\n",
       "      <th>...</th>\n",
       "      <th>291</th>\n",
       "      <th>292</th>\n",
       "      <th>293</th>\n",
       "      <th>294</th>\n",
       "      <th>295</th>\n",
       "      <th>296</th>\n",
       "      <th>297</th>\n",
       "      <th>298</th>\n",
       "      <th>299</th>\n",
       "      <th>label</th>\n",
       "    </tr>\n",
       "  </thead>\n",
       "  <tbody>\n",
       "    <tr>\n",
       "      <th>0</th>\n",
       "      <td>-0.227540</td>\n",
       "      <td>-0.170826</td>\n",
       "      <td>0.115066</td>\n",
       "      <td>0.149463</td>\n",
       "      <td>-0.026197</td>\n",
       "      <td>0.008393</td>\n",
       "      <td>-0.024517</td>\n",
       "      <td>0.025794</td>\n",
       "      <td>0.067489</td>\n",
       "      <td>0.097428</td>\n",
       "      <td>...</td>\n",
       "      <td>0.172643</td>\n",
       "      <td>0.034766</td>\n",
       "      <td>0.276930</td>\n",
       "      <td>0.098627</td>\n",
       "      <td>-0.086076</td>\n",
       "      <td>-0.055905</td>\n",
       "      <td>-0.056114</td>\n",
       "      <td>-0.002599</td>\n",
       "      <td>0.101394</td>\n",
       "      <td>1.0</td>\n",
       "    </tr>\n",
       "    <tr>\n",
       "      <th>1</th>\n",
       "      <td>-0.199238</td>\n",
       "      <td>-0.200579</td>\n",
       "      <td>0.116510</td>\n",
       "      <td>0.111658</td>\n",
       "      <td>-0.064551</td>\n",
       "      <td>0.020515</td>\n",
       "      <td>-0.017088</td>\n",
       "      <td>0.006766</td>\n",
       "      <td>0.083793</td>\n",
       "      <td>0.163523</td>\n",
       "      <td>...</td>\n",
       "      <td>0.178555</td>\n",
       "      <td>0.034858</td>\n",
       "      <td>0.283163</td>\n",
       "      <td>0.098012</td>\n",
       "      <td>-0.086388</td>\n",
       "      <td>-0.065492</td>\n",
       "      <td>-0.055511</td>\n",
       "      <td>-0.080624</td>\n",
       "      <td>0.102011</td>\n",
       "      <td>0.0</td>\n",
       "    </tr>\n",
       "    <tr>\n",
       "      <th>2</th>\n",
       "      <td>-0.229403</td>\n",
       "      <td>-0.180689</td>\n",
       "      <td>0.149343</td>\n",
       "      <td>0.133359</td>\n",
       "      <td>-0.036580</td>\n",
       "      <td>0.031731</td>\n",
       "      <td>-0.011592</td>\n",
       "      <td>-0.025878</td>\n",
       "      <td>0.081141</td>\n",
       "      <td>0.153825</td>\n",
       "      <td>...</td>\n",
       "      <td>0.177649</td>\n",
       "      <td>0.016944</td>\n",
       "      <td>0.292426</td>\n",
       "      <td>0.114490</td>\n",
       "      <td>-0.116326</td>\n",
       "      <td>-0.075048</td>\n",
       "      <td>-0.072371</td>\n",
       "      <td>-0.070862</td>\n",
       "      <td>0.127622</td>\n",
       "      <td>0.0</td>\n",
       "    </tr>\n",
       "    <tr>\n",
       "      <th>3</th>\n",
       "      <td>-0.237999</td>\n",
       "      <td>-0.193224</td>\n",
       "      <td>0.123863</td>\n",
       "      <td>0.154978</td>\n",
       "      <td>-0.065055</td>\n",
       "      <td>0.050980</td>\n",
       "      <td>0.001317</td>\n",
       "      <td>0.003766</td>\n",
       "      <td>0.086413</td>\n",
       "      <td>0.102024</td>\n",
       "      <td>...</td>\n",
       "      <td>0.149542</td>\n",
       "      <td>0.012284</td>\n",
       "      <td>0.302916</td>\n",
       "      <td>0.106729</td>\n",
       "      <td>-0.074216</td>\n",
       "      <td>-0.042382</td>\n",
       "      <td>-0.052624</td>\n",
       "      <td>-0.039711</td>\n",
       "      <td>0.112512</td>\n",
       "      <td>0.0</td>\n",
       "    </tr>\n",
       "    <tr>\n",
       "      <th>4</th>\n",
       "      <td>-0.203110</td>\n",
       "      <td>-0.214482</td>\n",
       "      <td>0.103448</td>\n",
       "      <td>0.181231</td>\n",
       "      <td>0.010507</td>\n",
       "      <td>-0.013264</td>\n",
       "      <td>-0.050693</td>\n",
       "      <td>0.035647</td>\n",
       "      <td>0.080304</td>\n",
       "      <td>0.143670</td>\n",
       "      <td>...</td>\n",
       "      <td>0.180557</td>\n",
       "      <td>0.059697</td>\n",
       "      <td>0.240646</td>\n",
       "      <td>0.098397</td>\n",
       "      <td>-0.047990</td>\n",
       "      <td>-0.073707</td>\n",
       "      <td>-0.052928</td>\n",
       "      <td>-0.058238</td>\n",
       "      <td>0.162846</td>\n",
       "      <td>0.0</td>\n",
       "    </tr>\n",
       "    <tr>\n",
       "      <th>...</th>\n",
       "      <td>...</td>\n",
       "      <td>...</td>\n",
       "      <td>...</td>\n",
       "      <td>...</td>\n",
       "      <td>...</td>\n",
       "      <td>...</td>\n",
       "      <td>...</td>\n",
       "      <td>...</td>\n",
       "      <td>...</td>\n",
       "      <td>...</td>\n",
       "      <td>...</td>\n",
       "      <td>...</td>\n",
       "      <td>...</td>\n",
       "      <td>...</td>\n",
       "      <td>...</td>\n",
       "      <td>...</td>\n",
       "      <td>...</td>\n",
       "      <td>...</td>\n",
       "      <td>...</td>\n",
       "      <td>...</td>\n",
       "      <td>...</td>\n",
       "    </tr>\n",
       "    <tr>\n",
       "      <th>19988</th>\n",
       "      <td>-0.188254</td>\n",
       "      <td>-0.231851</td>\n",
       "      <td>0.100855</td>\n",
       "      <td>0.172398</td>\n",
       "      <td>-0.009157</td>\n",
       "      <td>-0.015677</td>\n",
       "      <td>-0.027036</td>\n",
       "      <td>0.053588</td>\n",
       "      <td>0.068399</td>\n",
       "      <td>0.138873</td>\n",
       "      <td>...</td>\n",
       "      <td>0.215877</td>\n",
       "      <td>0.087183</td>\n",
       "      <td>0.232958</td>\n",
       "      <td>0.146723</td>\n",
       "      <td>-0.068406</td>\n",
       "      <td>-0.098700</td>\n",
       "      <td>-0.021377</td>\n",
       "      <td>-0.020695</td>\n",
       "      <td>0.144141</td>\n",
       "      <td>0.0</td>\n",
       "    </tr>\n",
       "    <tr>\n",
       "      <th>19989</th>\n",
       "      <td>-0.182253</td>\n",
       "      <td>-0.172234</td>\n",
       "      <td>0.058293</td>\n",
       "      <td>0.203703</td>\n",
       "      <td>0.050997</td>\n",
       "      <td>-0.015876</td>\n",
       "      <td>0.031753</td>\n",
       "      <td>0.073073</td>\n",
       "      <td>0.035584</td>\n",
       "      <td>0.110737</td>\n",
       "      <td>...</td>\n",
       "      <td>0.202587</td>\n",
       "      <td>0.033387</td>\n",
       "      <td>0.257088</td>\n",
       "      <td>0.150562</td>\n",
       "      <td>-0.005578</td>\n",
       "      <td>-0.053920</td>\n",
       "      <td>-0.089609</td>\n",
       "      <td>0.087724</td>\n",
       "      <td>0.100026</td>\n",
       "      <td>1.0</td>\n",
       "    </tr>\n",
       "    <tr>\n",
       "      <th>19992</th>\n",
       "      <td>-0.204853</td>\n",
       "      <td>-0.164415</td>\n",
       "      <td>0.078403</td>\n",
       "      <td>0.061647</td>\n",
       "      <td>-0.105045</td>\n",
       "      <td>0.012298</td>\n",
       "      <td>-0.040401</td>\n",
       "      <td>0.035753</td>\n",
       "      <td>0.106387</td>\n",
       "      <td>0.142136</td>\n",
       "      <td>...</td>\n",
       "      <td>0.256079</td>\n",
       "      <td>0.077841</td>\n",
       "      <td>0.255793</td>\n",
       "      <td>0.098413</td>\n",
       "      <td>-0.079148</td>\n",
       "      <td>-0.095091</td>\n",
       "      <td>-0.058033</td>\n",
       "      <td>-0.058470</td>\n",
       "      <td>0.155490</td>\n",
       "      <td>0.0</td>\n",
       "    </tr>\n",
       "    <tr>\n",
       "      <th>19993</th>\n",
       "      <td>-0.177609</td>\n",
       "      <td>-0.170828</td>\n",
       "      <td>0.084600</td>\n",
       "      <td>0.101465</td>\n",
       "      <td>-0.090678</td>\n",
       "      <td>0.047323</td>\n",
       "      <td>0.019595</td>\n",
       "      <td>0.021610</td>\n",
       "      <td>0.057809</td>\n",
       "      <td>0.163601</td>\n",
       "      <td>...</td>\n",
       "      <td>0.188894</td>\n",
       "      <td>0.054218</td>\n",
       "      <td>0.292236</td>\n",
       "      <td>0.121689</td>\n",
       "      <td>-0.070115</td>\n",
       "      <td>-0.081535</td>\n",
       "      <td>-0.050719</td>\n",
       "      <td>-0.061766</td>\n",
       "      <td>0.096468</td>\n",
       "      <td>0.0</td>\n",
       "    </tr>\n",
       "    <tr>\n",
       "      <th>19994</th>\n",
       "      <td>-0.300066</td>\n",
       "      <td>-0.216659</td>\n",
       "      <td>0.101584</td>\n",
       "      <td>0.089725</td>\n",
       "      <td>-0.014262</td>\n",
       "      <td>-0.010871</td>\n",
       "      <td>-0.004168</td>\n",
       "      <td>0.116242</td>\n",
       "      <td>0.081455</td>\n",
       "      <td>0.105848</td>\n",
       "      <td>...</td>\n",
       "      <td>0.204955</td>\n",
       "      <td>0.092657</td>\n",
       "      <td>0.279201</td>\n",
       "      <td>0.049773</td>\n",
       "      <td>0.008953</td>\n",
       "      <td>-0.050126</td>\n",
       "      <td>-0.097005</td>\n",
       "      <td>0.084337</td>\n",
       "      <td>0.091192</td>\n",
       "      <td>1.0</td>\n",
       "    </tr>\n",
       "  </tbody>\n",
       "</table>\n",
       "<p>10913 rows × 301 columns</p>\n",
       "</div>"
      ],
      "text/plain": [
       "              0         1         2         3         4         5         6  \\\n",
       "0     -0.227540 -0.170826  0.115066  0.149463 -0.026197  0.008393 -0.024517   \n",
       "1     -0.199238 -0.200579  0.116510  0.111658 -0.064551  0.020515 -0.017088   \n",
       "2     -0.229403 -0.180689  0.149343  0.133359 -0.036580  0.031731 -0.011592   \n",
       "3     -0.237999 -0.193224  0.123863  0.154978 -0.065055  0.050980  0.001317   \n",
       "4     -0.203110 -0.214482  0.103448  0.181231  0.010507 -0.013264 -0.050693   \n",
       "...         ...       ...       ...       ...       ...       ...       ...   \n",
       "19988 -0.188254 -0.231851  0.100855  0.172398 -0.009157 -0.015677 -0.027036   \n",
       "19989 -0.182253 -0.172234  0.058293  0.203703  0.050997 -0.015876  0.031753   \n",
       "19992 -0.204853 -0.164415  0.078403  0.061647 -0.105045  0.012298 -0.040401   \n",
       "19993 -0.177609 -0.170828  0.084600  0.101465 -0.090678  0.047323  0.019595   \n",
       "19994 -0.300066 -0.216659  0.101584  0.089725 -0.014262 -0.010871 -0.004168   \n",
       "\n",
       "              7         8         9  ...       291       292       293  \\\n",
       "0      0.025794  0.067489  0.097428  ...  0.172643  0.034766  0.276930   \n",
       "1      0.006766  0.083793  0.163523  ...  0.178555  0.034858  0.283163   \n",
       "2     -0.025878  0.081141  0.153825  ...  0.177649  0.016944  0.292426   \n",
       "3      0.003766  0.086413  0.102024  ...  0.149542  0.012284  0.302916   \n",
       "4      0.035647  0.080304  0.143670  ...  0.180557  0.059697  0.240646   \n",
       "...         ...       ...       ...  ...       ...       ...       ...   \n",
       "19988  0.053588  0.068399  0.138873  ...  0.215877  0.087183  0.232958   \n",
       "19989  0.073073  0.035584  0.110737  ...  0.202587  0.033387  0.257088   \n",
       "19992  0.035753  0.106387  0.142136  ...  0.256079  0.077841  0.255793   \n",
       "19993  0.021610  0.057809  0.163601  ...  0.188894  0.054218  0.292236   \n",
       "19994  0.116242  0.081455  0.105848  ...  0.204955  0.092657  0.279201   \n",
       "\n",
       "            294       295       296       297       298       299  label  \n",
       "0      0.098627 -0.086076 -0.055905 -0.056114 -0.002599  0.101394    1.0  \n",
       "1      0.098012 -0.086388 -0.065492 -0.055511 -0.080624  0.102011    0.0  \n",
       "2      0.114490 -0.116326 -0.075048 -0.072371 -0.070862  0.127622    0.0  \n",
       "3      0.106729 -0.074216 -0.042382 -0.052624 -0.039711  0.112512    0.0  \n",
       "4      0.098397 -0.047990 -0.073707 -0.052928 -0.058238  0.162846    0.0  \n",
       "...         ...       ...       ...       ...       ...       ...    ...  \n",
       "19988  0.146723 -0.068406 -0.098700 -0.021377 -0.020695  0.144141    0.0  \n",
       "19989  0.150562 -0.005578 -0.053920 -0.089609  0.087724  0.100026    1.0  \n",
       "19992  0.098413 -0.079148 -0.095091 -0.058033 -0.058470  0.155490    0.0  \n",
       "19993  0.121689 -0.070115 -0.081535 -0.050719 -0.061766  0.096468    0.0  \n",
       "19994  0.049773  0.008953 -0.050126 -0.097005  0.084337  0.091192    1.0  \n",
       "\n",
       "[10913 rows x 301 columns]"
      ]
     },
     "execution_count": 13,
     "metadata": {},
     "output_type": "execute_result"
    }
   ],
   "source": [
    "# 3. Separate the positive from the negative\n",
    "positive_reviews = wordvec_df[wordvec_df['label'] == 1]\n",
    "negative_reviews = wordvec_df[wordvec_df['label'] == 0]\n",
    "\n",
    "# 4. Sample the positive\n",
    "positive_reviews_sample = positive_reviews.sample(n = len(negative_reviews), random_state = 3)\n",
    "\n",
    "# 5. Combine the data\n",
    "wordvec_df_rebalanced = pd.concat([positive_reviews_sample, negative_reviews])\n",
    "\n",
    "# 6. Sort according to index\n",
    "wordvec_df_rebalanced_sorted = wordvec_df_rebalanced.sort_index()\n",
    "\n",
    "# 7. Drop NaNs\n",
    "wordvec_df_rebalanced_sorted.dropna(axis = 0, how = 'any', inplace = True)\n",
    "\n",
    "wordvec_df_rebalanced_sorted"
   ]
  },
  {
   "cell_type": "code",
   "execution_count": 14,
   "id": "79f2b95f",
   "metadata": {},
   "outputs": [
    {
     "data": {
      "text/html": [
       "<div>\n",
       "<style scoped>\n",
       "    .dataframe tbody tr th:only-of-type {\n",
       "        vertical-align: middle;\n",
       "    }\n",
       "\n",
       "    .dataframe tbody tr th {\n",
       "        vertical-align: top;\n",
       "    }\n",
       "\n",
       "    .dataframe thead th {\n",
       "        text-align: right;\n",
       "    }\n",
       "</style>\n",
       "<table border=\"1\" class=\"dataframe\">\n",
       "  <thead>\n",
       "    <tr style=\"text-align: right;\">\n",
       "      <th></th>\n",
       "      <th>count</th>\n",
       "    </tr>\n",
       "    <tr>\n",
       "      <th>label</th>\n",
       "      <th></th>\n",
       "    </tr>\n",
       "  </thead>\n",
       "  <tbody>\n",
       "    <tr>\n",
       "      <th>0.0</th>\n",
       "      <td>5457</td>\n",
       "    </tr>\n",
       "    <tr>\n",
       "      <th>1.0</th>\n",
       "      <td>5456</td>\n",
       "    </tr>\n",
       "  </tbody>\n",
       "</table>\n",
       "</div>"
      ],
      "text/plain": [
       "       count\n",
       "label       \n",
       "0.0     5457\n",
       "1.0     5456"
      ]
     },
     "execution_count": 14,
     "metadata": {},
     "output_type": "execute_result"
    }
   ],
   "source": [
    "wordvec_df_rebalanced_sorted.groupby(['label'])['label'].agg(['count'])"
   ]
  },
  {
   "cell_type": "markdown",
   "id": "862dbf03",
   "metadata": {},
   "source": [
    "Now the dataset is balanced and is combined into just positive and negative reviews"
   ]
  },
  {
   "cell_type": "markdown",
   "id": "093ecfd3",
   "metadata": {},
   "source": [
    "### Modeling"
   ]
  },
  {
   "cell_type": "code",
   "execution_count": 15,
   "id": "f5bb4063",
   "metadata": {},
   "outputs": [],
   "source": [
    "# Set up X and y\n",
    "X = wordvec_df_rebalanced_sorted.drop('label', axis = 1)\n",
    "y = wordvec_df_rebalanced_sorted['label']\n",
    "\n",
    "# Train test split\n",
    "X_train, X_test, y_train, y_test = train_test_split(X, y, test_size = 0.2, random_state = 3)"
   ]
  },
  {
   "cell_type": "code",
   "execution_count": 16,
   "id": "cb4a534e",
   "metadata": {},
   "outputs": [],
   "source": [
    "# Initialize the random forest classifier\n",
    "rf_mdl = RandomForestClassifier(random_state = 3)\n",
    "\n",
    "# Train the model\n",
    "rf_mdl.fit(X_train, y_train)\n",
    "\n",
    "# Make predictions about the test data\n",
    "y_hat = rf_mdl.predict(X_test)"
   ]
  },
  {
   "cell_type": "code",
   "execution_count": 17,
   "id": "a6cd5d4a",
   "metadata": {},
   "outputs": [
    {
     "data": {
      "image/png": "[encoded data removed]",
      "text/plain": [
       "<Figure size 640x480 with 2 Axes>"
      ]
     },
     "metadata": {},
     "output_type": "display_data"
    }
   ],
   "source": [
    "# Create a confusion matrix\n",
    "cf = confusion_matrix(y_test, y_hat, labels = rf_mdl.classes_)\n",
    "\n",
    "# Display the confusion matrix\n",
    "disp = ConfusionMatrixDisplay(confusion_matrix = cf, display_labels = rf_mdl.classes_)\n",
    "disp.plot()\n",
    "plt.title('Confusion matrix of RF model on dataset created with gensim')\n",
    "plt.show()"
   ]
  },
  {
   "cell_type": "code",
   "execution_count": 18,
   "id": "58b09f7d",
   "metadata": {},
   "outputs": [
    {
     "name": "stdout",
     "output_type": "stream",
     "text": [
      "              precision    recall  f1-score   support\n",
      "\n",
      "         0.0       0.91      0.94      0.93      1116\n",
      "         1.0       0.94      0.91      0.92      1067\n",
      "\n",
      "    accuracy                           0.92      2183\n",
      "   macro avg       0.93      0.92      0.92      2183\n",
      "weighted avg       0.93      0.92      0.92      2183\n",
      "\n"
     ]
    }
   ],
   "source": [
    "# Print classification report\n",
    "print(classification_report(y_test, y_hat, labels = rf_mdl.classes_))"
   ]
  },
  {
   "cell_type": "markdown",
   "id": "b2c92150",
   "metadata": {},
   "source": [
    "The model performance is great, with an f1-score of 0.92, a precision of 0.94, and a recall of 0.91. Now the performance with a multiclass problem will be measured."
   ]
  },
  {
   "cell_type": "markdown",
   "id": "67feeeb0",
   "metadata": {},
   "source": [
    "## Multiclass labels"
   ]
  },
  {
   "cell_type": "markdown",
   "id": "da3221db",
   "metadata": {},
   "source": [
    "### Sample the original labels"
   ]
  },
  {
   "cell_type": "code",
   "execution_count": 19,
   "id": "bb15b303",
   "metadata": {},
   "outputs": [
    {
     "data": {
      "text/plain": [
       "0        5.0\n",
       "1        1.0\n",
       "2        1.0\n",
       "3        1.0\n",
       "4        1.0\n",
       "        ... \n",
       "19995    3.0\n",
       "19996    5.0\n",
       "19997    5.0\n",
       "19998    5.0\n",
       "19999    5.0\n",
       "Name: label, Length: 20000, dtype: float64"
      ]
     },
     "execution_count": 19,
     "metadata": {},
     "output_type": "execute_result"
    }
   ],
   "source": [
    "# Covert the labels back to raw ones\n",
    "wordvec_df.loc[:, 'label'] = ratings\n",
    "wordvec_df['label']"
   ]
  },
  {
   "cell_type": "code",
   "execution_count": 20,
   "id": "25d2db79",
   "metadata": {},
   "outputs": [
    {
     "data": {
      "text/plain": [
       "label\n",
       "1.0     4509\n",
       "2.0      948\n",
       "3.0      765\n",
       "4.0      914\n",
       "5.0    12864\n",
       "Name: count, dtype: int64"
      ]
     },
     "execution_count": 20,
     "metadata": {},
     "output_type": "execute_result"
    }
   ],
   "source": [
    "# Display the distribution of labels\n",
    "rating_counts = wordvec_df['label'].value_counts()\n",
    "rating_counts.sort_index(inplace = True)\n",
    "rating_counts"
   ]
  },
  {
   "cell_type": "code",
   "execution_count": 21,
   "id": "038e126a",
   "metadata": {},
   "outputs": [],
   "source": [
    "wordvec_df = wordvec_df.dropna(how = 'any', axis = 0)"
   ]
  },
  {
   "cell_type": "code",
   "execution_count": 22,
   "id": "08b2c2b1",
   "metadata": {},
   "outputs": [],
   "source": [
    "# Store the smallest count in a variable\n",
    "smallest_count = rating_counts.min()\n",
    "\n",
    "# Separate the rating categories\n",
    "one_stars = wordvec_df[wordvec_df['label'] == 1.0]\n",
    "two_stars = wordvec_df[wordvec_df['label'] == 2.0]\n",
    "three_stars = wordvec_df[wordvec_df['label'] == 3.0]\n",
    "four_stars = wordvec_df[wordvec_df['label'] == 4.0]\n",
    "five_stars = wordvec_df[wordvec_df['label'] == 5.0]\n",
    "\n",
    "# Sample each of the labels according to the smallest label\n",
    "one_stars = one_stars.sample(n = smallest_count, random_state = 3)\n",
    "two_stars = two_stars.sample(n = smallest_count, random_state = 3)\n",
    "three_stars = three_stars.sample(n = smallest_count, random_state = 3)\n",
    "four_stars = four_stars.sample(n = smallest_count, random_state = 3)\n",
    "five_stars = five_stars.sample(n = smallest_count, random_state = 3)\n",
    "\n",
    "# Concatenate the dataframes and sort\n",
    "wordvec_df_rebalanced = pd.concat([one_stars, two_stars, three_stars, four_stars, five_stars])\n",
    "wordvec_df_rebalanced_sorted = wordvec_df_rebalanced.sort_index()"
   ]
  },
  {
   "cell_type": "code",
   "execution_count": 23,
   "id": "b60c405d",
   "metadata": {},
   "outputs": [
    {
     "data": {
      "text/plain": [
       "label\n",
       "1.0    765\n",
       "2.0    765\n",
       "3.0    765\n",
       "4.0    765\n",
       "5.0    765\n",
       "Name: count, dtype: int64"
      ]
     },
     "execution_count": 23,
     "metadata": {},
     "output_type": "execute_result"
    }
   ],
   "source": [
    "wordvec_df_rebalanced_sorted['label'].value_counts().sort_index()"
   ]
  },
  {
   "cell_type": "markdown",
   "id": "46081e11",
   "metadata": {},
   "source": [
    "We now have an equal number of counts for each label"
   ]
  },
  {
   "cell_type": "markdown",
   "id": "a5b41545",
   "metadata": {},
   "source": [
    "### Modeling"
   ]
  },
  {
   "cell_type": "code",
   "execution_count": 24,
   "id": "220d3717",
   "metadata": {},
   "outputs": [],
   "source": [
    "# Set up X and y\n",
    "X = wordvec_df_rebalanced_sorted.drop('label', axis = 1)\n",
    "y = wordvec_df_rebalanced_sorted['label']\n",
    "\n",
    "# Train Test Split\n",
    "X_train, X_test, y_train, y_test = train_test_split(X, y, test_size = 0.2, random_state = 3)\n",
    "\n",
    "# Create a random forest classfier\n",
    "rf_mdl = RandomForestClassifier(random_state = 3)\n",
    "\n",
    "# Train the model\n",
    "rf_mdl.fit(X_train, y_train)\n",
    "\n",
    "# Make predictions\n",
    "y_hat = rf_mdl.predict(X_test)"
   ]
  },
  {
   "cell_type": "code",
   "execution_count": 25,
   "id": "2f7c1120",
   "metadata": {},
   "outputs": [
    {
     "data": {
      "image/png": "[encoded data removed]",
      "text/plain": [
       "<Figure size 640x480 with 2 Axes>"
      ]
     },
     "metadata": {},
     "output_type": "display_data"
    }
   ],
   "source": [
    "# View confusion matrix\n",
    "cf = confusion_matrix(y_test, y_hat, labels = rf_mdl.classes_)\n",
    "cf_disp = ConfusionMatrixDisplay(confusion_matrix = cf, display_labels = rf_mdl.classes_)\n",
    "\n",
    "cf_disp.plot()\n",
    "plt.title(\"RF Model with Multiclass Classification of Yelp Reviews\")\n",
    "plt.show()"
   ]
  },
  {
   "cell_type": "code",
   "execution_count": 26,
   "id": "d02baf87",
   "metadata": {},
   "outputs": [
    {
     "name": "stdout",
     "output_type": "stream",
     "text": [
      "              precision    recall  f1-score   support\n",
      "\n",
      "         1.0       0.59      0.68      0.63       161\n",
      "         2.0       0.38      0.36      0.37       143\n",
      "         3.0       0.43      0.39      0.41       152\n",
      "         4.0       0.48      0.41      0.44       160\n",
      "         5.0       0.68      0.74      0.71       149\n",
      "\n",
      "    accuracy                           0.52       765\n",
      "   macro avg       0.51      0.52      0.51       765\n",
      "weighted avg       0.51      0.52      0.51       765\n",
      "\n"
     ]
    }
   ],
   "source": [
    "# View classification report\n",
    "print(classification_report(y_test, y_hat, labels = rf_mdl.classes_))"
   ]
  },
  {
   "cell_type": "markdown",
   "id": "515e7fc7",
   "metadata": {},
   "source": [
    "This model performed better than previous ones that were tasked with multiclassification. There is an interesting symmetrical pattern to it whereby the model seems to avoid making grave mistakes (for example, classifying a 1 as a 5, or classifying a 5 as a 1) but seems to struggle a bit with this level of granularity. f1-scores for 1s and 5s are much higher than the 2s, 3s, and 4s, indicating that the model is better at detecting extremes than it is at detecting a more neutral review. The model performed the worst with the 2s class, but there seems to be a difference of just 7 points between the 2s and 4s class, and 4 points between the 2s and 3s class. This is in contrast to 26 points between the 2s and 1s class, and 34 points between the 2s and 5s class."
   ]
  },
  {
   "cell_type": "markdown",
   "id": "8c076fb0",
   "metadata": {},
   "source": [
    "Overall, this model, with its accuracy of 52%, is better than the baseline chance of 20% (randomly picking a class), but is still not great (may as well flip a coin to guess if the model will get the prediction right). **Is is possible that the model is overfitting?**"
   ]
  },
  {
   "cell_type": "markdown",
   "id": "54f3e692",
   "metadata": {},
   "source": [
    "**Check for overfitting by evaluating the model on the training data**"
   ]
  },
  {
   "cell_type": "code",
   "execution_count": 27,
   "id": "f9c54283",
   "metadata": {},
   "outputs": [
    {
     "data": {
      "image/png": "[encoded data removed]",
      "text/plain": [
       "<Figure size 640x480 with 2 Axes>"
      ]
     },
     "metadata": {},
     "output_type": "display_data"
    }
   ],
   "source": [
    "# Create a random forest classfier\n",
    "rf_mdl = RandomForestClassifier(random_state = 3)\n",
    "\n",
    "# Train the model\n",
    "rf_mdl.fit(X_train, y_train)\n",
    "\n",
    "# Make predictions\n",
    "y_hat_train = rf_mdl.predict(X_train)\n",
    "\n",
    "# Create a confusion matrix\n",
    "cf_train = confusion_matrix(y_train, y_hat_train, labels = rf_mdl.classes_)\n",
    "cf_train_disp = ConfusionMatrixDisplay(confusion_matrix = cf_train, display_labels = rf_mdl.classes_)\n",
    "\n",
    "# Plot the confusion matrix\n",
    "cf_train_disp.plot()\n",
    "plt.title(\"RF Model with Multiclass Classification of Yelp Reviews (Training Data)\")\n",
    "plt.show()"
   ]
  },
  {
   "cell_type": "code",
   "execution_count": 28,
   "id": "8c7790b9",
   "metadata": {
    "scrolled": true
   },
   "outputs": [
    {
     "name": "stdout",
     "output_type": "stream",
     "text": [
      "              precision    recall  f1-score   support\n",
      "\n",
      "         1.0       1.00      1.00      1.00       604\n",
      "         2.0       1.00      1.00      1.00       622\n",
      "         3.0       1.00      1.00      1.00       613\n",
      "         4.0       1.00      1.00      1.00       605\n",
      "         5.0       1.00      1.00      1.00       616\n",
      "\n",
      "    accuracy                           1.00      3060\n",
      "   macro avg       1.00      1.00      1.00      3060\n",
      "weighted avg       1.00      1.00      1.00      3060\n",
      "\n"
     ]
    }
   ],
   "source": [
    "print(classification_report(y_train, y_hat_train))"
   ]
  },
  {
   "cell_type": "markdown",
   "id": "f6976de5",
   "metadata": {},
   "source": [
    "The model definitely overfitted, so we'll need to tune some hyperparameters to prevent overfitting"
   ]
  },
  {
   "cell_type": "code",
   "execution_count": 29,
   "id": "0629ce5a",
   "metadata": {},
   "outputs": [
    {
     "data": {
      "text/html": [
       "<div>\n",
       "<style scoped>\n",
       "    .dataframe tbody tr th:only-of-type {\n",
       "        vertical-align: middle;\n",
       "    }\n",
       "\n",
       "    .dataframe tbody tr th {\n",
       "        vertical-align: top;\n",
       "    }\n",
       "\n",
       "    .dataframe thead th {\n",
       "        text-align: right;\n",
       "    }\n",
       "</style>\n",
       "<table border=\"1\" class=\"dataframe\">\n",
       "  <thead>\n",
       "    <tr style=\"text-align: right;\">\n",
       "      <th></th>\n",
       "      <th>0</th>\n",
       "      <th>1</th>\n",
       "      <th>2</th>\n",
       "      <th>3</th>\n",
       "      <th>4</th>\n",
       "      <th>5</th>\n",
       "      <th>6</th>\n",
       "      <th>7</th>\n",
       "      <th>8</th>\n",
       "      <th>9</th>\n",
       "      <th>...</th>\n",
       "      <th>290</th>\n",
       "      <th>291</th>\n",
       "      <th>292</th>\n",
       "      <th>293</th>\n",
       "      <th>294</th>\n",
       "      <th>295</th>\n",
       "      <th>296</th>\n",
       "      <th>297</th>\n",
       "      <th>298</th>\n",
       "      <th>299</th>\n",
       "    </tr>\n",
       "  </thead>\n",
       "  <tbody>\n",
       "    <tr>\n",
       "      <th>count</th>\n",
       "      <td>3825.000000</td>\n",
       "      <td>3825.000000</td>\n",
       "      <td>3825.000000</td>\n",
       "      <td>3825.000000</td>\n",
       "      <td>3825.000000</td>\n",
       "      <td>3825.000000</td>\n",
       "      <td>3825.000000</td>\n",
       "      <td>3825.000000</td>\n",
       "      <td>3825.000000</td>\n",
       "      <td>3825.000000</td>\n",
       "      <td>...</td>\n",
       "      <td>3825.000000</td>\n",
       "      <td>3825.000000</td>\n",
       "      <td>3825.000000</td>\n",
       "      <td>3825.000000</td>\n",
       "      <td>3825.000000</td>\n",
       "      <td>3825.000000</td>\n",
       "      <td>3825.000000</td>\n",
       "      <td>3825.000000</td>\n",
       "      <td>3825.000000</td>\n",
       "      <td>3825.000000</td>\n",
       "    </tr>\n",
       "    <tr>\n",
       "      <th>mean</th>\n",
       "      <td>-0.217670</td>\n",
       "      <td>-0.183689</td>\n",
       "      <td>0.103739</td>\n",
       "      <td>0.147995</td>\n",
       "      <td>-0.027310</td>\n",
       "      <td>0.008740</td>\n",
       "      <td>0.001061</td>\n",
       "      <td>0.040032</td>\n",
       "      <td>0.079898</td>\n",
       "      <td>0.131087</td>\n",
       "      <td>...</td>\n",
       "      <td>-0.021321</td>\n",
       "      <td>0.180048</td>\n",
       "      <td>0.054723</td>\n",
       "      <td>0.274601</td>\n",
       "      <td>0.113383</td>\n",
       "      <td>-0.062881</td>\n",
       "      <td>-0.076746</td>\n",
       "      <td>-0.057177</td>\n",
       "      <td>-0.028119</td>\n",
       "      <td>0.121948</td>\n",
       "    </tr>\n",
       "    <tr>\n",
       "      <th>std</th>\n",
       "      <td>0.037637</td>\n",
       "      <td>0.027261</td>\n",
       "      <td>0.024662</td>\n",
       "      <td>0.034476</td>\n",
       "      <td>0.035930</td>\n",
       "      <td>0.028261</td>\n",
       "      <td>0.026406</td>\n",
       "      <td>0.031220</td>\n",
       "      <td>0.023795</td>\n",
       "      <td>0.027504</td>\n",
       "      <td>...</td>\n",
       "      <td>0.027756</td>\n",
       "      <td>0.027930</td>\n",
       "      <td>0.029161</td>\n",
       "      <td>0.022769</td>\n",
       "      <td>0.023729</td>\n",
       "      <td>0.030252</td>\n",
       "      <td>0.022735</td>\n",
       "      <td>0.021551</td>\n",
       "      <td>0.039687</td>\n",
       "      <td>0.031130</td>\n",
       "    </tr>\n",
       "    <tr>\n",
       "      <th>min</th>\n",
       "      <td>-0.406548</td>\n",
       "      <td>-0.306723</td>\n",
       "      <td>-0.018080</td>\n",
       "      <td>-0.033575</td>\n",
       "      <td>-0.152559</td>\n",
       "      <td>-0.128290</td>\n",
       "      <td>-0.088308</td>\n",
       "      <td>-0.078065</td>\n",
       "      <td>0.007452</td>\n",
       "      <td>0.043162</td>\n",
       "      <td>...</td>\n",
       "      <td>-0.119176</td>\n",
       "      <td>0.058464</td>\n",
       "      <td>-0.053081</td>\n",
       "      <td>0.195702</td>\n",
       "      <td>0.013307</td>\n",
       "      <td>-0.194612</td>\n",
       "      <td>-0.179349</td>\n",
       "      <td>-0.145582</td>\n",
       "      <td>-0.164880</td>\n",
       "      <td>0.018616</td>\n",
       "    </tr>\n",
       "    <tr>\n",
       "      <th>25%</th>\n",
       "      <td>-0.240695</td>\n",
       "      <td>-0.201232</td>\n",
       "      <td>0.087776</td>\n",
       "      <td>0.126723</td>\n",
       "      <td>-0.051615</td>\n",
       "      <td>-0.008536</td>\n",
       "      <td>-0.016373</td>\n",
       "      <td>0.019149</td>\n",
       "      <td>0.064218</td>\n",
       "      <td>0.112134</td>\n",
       "      <td>...</td>\n",
       "      <td>-0.040662</td>\n",
       "      <td>0.161787</td>\n",
       "      <td>0.035866</td>\n",
       "      <td>0.259646</td>\n",
       "      <td>0.097693</td>\n",
       "      <td>-0.083407</td>\n",
       "      <td>-0.091476</td>\n",
       "      <td>-0.071413</td>\n",
       "      <td>-0.055951</td>\n",
       "      <td>0.100689</td>\n",
       "    </tr>\n",
       "    <tr>\n",
       "      <th>50%</th>\n",
       "      <td>-0.215494</td>\n",
       "      <td>-0.182508</td>\n",
       "      <td>0.103210</td>\n",
       "      <td>0.148748</td>\n",
       "      <td>-0.024896</td>\n",
       "      <td>0.009463</td>\n",
       "      <td>0.000742</td>\n",
       "      <td>0.040226</td>\n",
       "      <td>0.079319</td>\n",
       "      <td>0.131128</td>\n",
       "      <td>...</td>\n",
       "      <td>-0.023865</td>\n",
       "      <td>0.180338</td>\n",
       "      <td>0.055470</td>\n",
       "      <td>0.273941</td>\n",
       "      <td>0.113990</td>\n",
       "      <td>-0.064130</td>\n",
       "      <td>-0.076766</td>\n",
       "      <td>-0.057120</td>\n",
       "      <td>-0.030368</td>\n",
       "      <td>0.119094</td>\n",
       "    </tr>\n",
       "    <tr>\n",
       "      <th>75%</th>\n",
       "      <td>-0.194190</td>\n",
       "      <td>-0.165534</td>\n",
       "      <td>0.119005</td>\n",
       "      <td>0.171727</td>\n",
       "      <td>-0.002173</td>\n",
       "      <td>0.027188</td>\n",
       "      <td>0.018415</td>\n",
       "      <td>0.061214</td>\n",
       "      <td>0.094616</td>\n",
       "      <td>0.149973</td>\n",
       "      <td>...</td>\n",
       "      <td>-0.002437</td>\n",
       "      <td>0.198863</td>\n",
       "      <td>0.074120</td>\n",
       "      <td>0.289051</td>\n",
       "      <td>0.129090</td>\n",
       "      <td>-0.044429</td>\n",
       "      <td>-0.061988</td>\n",
       "      <td>-0.042756</td>\n",
       "      <td>-0.000853</td>\n",
       "      <td>0.142499</td>\n",
       "    </tr>\n",
       "    <tr>\n",
       "      <th>max</th>\n",
       "      <td>-0.066019</td>\n",
       "      <td>-0.052406</td>\n",
       "      <td>0.188035</td>\n",
       "      <td>0.254892</td>\n",
       "      <td>0.098848</td>\n",
       "      <td>0.121042</td>\n",
       "      <td>0.119362</td>\n",
       "      <td>0.152401</td>\n",
       "      <td>0.178313</td>\n",
       "      <td>0.233203</td>\n",
       "      <td>...</td>\n",
       "      <td>0.073277</td>\n",
       "      <td>0.295391</td>\n",
       "      <td>0.159034</td>\n",
       "      <td>0.370641</td>\n",
       "      <td>0.191086</td>\n",
       "      <td>0.078297</td>\n",
       "      <td>0.014484</td>\n",
       "      <td>0.019143</td>\n",
       "      <td>0.118522</td>\n",
       "      <td>0.227252</td>\n",
       "    </tr>\n",
       "  </tbody>\n",
       "</table>\n",
       "<p>8 rows × 300 columns</p>\n",
       "</div>"
      ],
      "text/plain": [
       "               0            1            2            3            4    \\\n",
       "count  3825.000000  3825.000000  3825.000000  3825.000000  3825.000000   \n",
       "mean     -0.217670    -0.183689     0.103739     0.147995    -0.027310   \n",
       "std       0.037637     0.027261     0.024662     0.034476     0.035930   \n",
       "min      -0.406548    -0.306723    -0.018080    -0.033575    -0.152559   \n",
       "25%      -0.240695    -0.201232     0.087776     0.126723    -0.051615   \n",
       "50%      -0.215494    -0.182508     0.103210     0.148748    -0.024896   \n",
       "75%      -0.194190    -0.165534     0.119005     0.171727    -0.002173   \n",
       "max      -0.066019    -0.052406     0.188035     0.254892     0.098848   \n",
       "\n",
       "               5            6            7            8            9    ...  \\\n",
       "count  3825.000000  3825.000000  3825.000000  3825.000000  3825.000000  ...   \n",
       "mean      0.008740     0.001061     0.040032     0.079898     0.131087  ...   \n",
       "std       0.028261     0.026406     0.031220     0.023795     0.027504  ...   \n",
       "min      -0.128290    -0.088308    -0.078065     0.007452     0.043162  ...   \n",
       "25%      -0.008536    -0.016373     0.019149     0.064218     0.112134  ...   \n",
       "50%       0.009463     0.000742     0.040226     0.079319     0.131128  ...   \n",
       "75%       0.027188     0.018415     0.061214     0.094616     0.149973  ...   \n",
       "max       0.121042     0.119362     0.152401     0.178313     0.233203  ...   \n",
       "\n",
       "               290          291          292          293          294  \\\n",
       "count  3825.000000  3825.000000  3825.000000  3825.000000  3825.000000   \n",
       "mean     -0.021321     0.180048     0.054723     0.274601     0.113383   \n",
       "std       0.027756     0.027930     0.029161     0.022769     0.023729   \n",
       "min      -0.119176     0.058464    -0.053081     0.195702     0.013307   \n",
       "25%      -0.040662     0.161787     0.035866     0.259646     0.097693   \n",
       "50%      -0.023865     0.180338     0.055470     0.273941     0.113990   \n",
       "75%      -0.002437     0.198863     0.074120     0.289051     0.129090   \n",
       "max       0.073277     0.295391     0.159034     0.370641     0.191086   \n",
       "\n",
       "               295          296          297          298          299  \n",
       "count  3825.000000  3825.000000  3825.000000  3825.000000  3825.000000  \n",
       "mean     -0.062881    -0.076746    -0.057177    -0.028119     0.121948  \n",
       "std       0.030252     0.022735     0.021551     0.039687     0.031130  \n",
       "min      -0.194612    -0.179349    -0.145582    -0.164880     0.018616  \n",
       "25%      -0.083407    -0.091476    -0.071413    -0.055951     0.100689  \n",
       "50%      -0.064130    -0.076766    -0.057120    -0.030368     0.119094  \n",
       "75%      -0.044429    -0.061988    -0.042756    -0.000853     0.142499  \n",
       "max       0.078297     0.014484     0.019143     0.118522     0.227252  \n",
       "\n",
       "[8 rows x 300 columns]"
      ]
     },
     "execution_count": 29,
     "metadata": {},
     "output_type": "execute_result"
    }
   ],
   "source": [
    "X.describe()"
   ]
  },
  {
   "cell_type": "markdown",
   "id": "ca243dfb",
   "metadata": {},
   "source": [
    "### Optimization using gridsearch"
   ]
  },
  {
   "cell_type": "markdown",
   "id": "55f1de54",
   "metadata": {},
   "source": [
    "Import libraries"
   ]
  },
  {
   "cell_type": "code",
   "execution_count": 40,
   "id": "a2de37c2",
   "metadata": {},
   "outputs": [],
   "source": [
    "from sklearn.model_selection import GridSearchCV"
   ]
  },
  {
   "cell_type": "markdown",
   "id": "c987d288",
   "metadata": {},
   "source": [
    "Find the best hyperparameters and evaluate the performance"
   ]
  },
  {
   "cell_type": "code",
   "execution_count": 30,
   "id": "3c436533",
   "metadata": {},
   "outputs": [],
   "source": [
    "# Define a hyperparameter space\n",
    "rf_param_space = {\n",
    "    'n_estimators': [50, 100],\n",
    "    'max_depth': [10, 20],\n",
    "    'min_samples_leaf': [50, 200, 500, 1000],\n",
    "    'max_features': ['sqrt', 50]\n",
    "}\n",
    "\n",
    "# Define a metric\n",
    "metric = 'accuracy'\n",
    "\n",
    "# Define a random forest model object\n",
    "rf_mdl = RandomForestClassifier(random_state = 3)\n",
    "\n",
    "# Define a gridsearchcv object\n",
    "rf_mdl_gcv = GridSearchCV(estimator = rf_mdl, param_grid = rf_param_space, cv = 5, scoring = metric)"
   ]
  },
  {
   "cell_type": "code",
   "execution_count": 31,
   "id": "e57e7777",
   "metadata": {},
   "outputs": [],
   "source": [
    "# Train the model\n",
    "rf_mdl_gcv_results = rf_mdl_gcv.fit(X_train, y_train)"
   ]
  },
  {
   "cell_type": "code",
   "execution_count": null,
   "id": "9867388f",
   "metadata": {},
   "outputs": [],
   "source": [
    "##### Print out the best parameters found\n",
    "rf_mdl_gcv_results.best_params_"
   ]
  },
  {
   "cell_type": "code",
   "execution_count": 33,
   "id": "2e327da3",
   "metadata": {},
   "outputs": [
    {
     "data": {
      "text/plain": [
       "0.6013071895424836"
      ]
     },
     "execution_count": 33,
     "metadata": {},
     "output_type": "execute_result"
    }
   ],
   "source": [
    "# Print out the accuracy of the model on training data\n",
    "rf_mdl_gcv_results.score(X_train, y_train)"
   ]
  },
  {
   "cell_type": "code",
   "execution_count": 34,
   "id": "817149af",
   "metadata": {},
   "outputs": [
    {
     "data": {
      "text/plain": [
       "0.4875816993464052"
      ]
     },
     "execution_count": 34,
     "metadata": {},
     "output_type": "execute_result"
    }
   ],
   "source": [
    "# Print out the accuracy of the model on testing data\n",
    "rf_mdl_gcv_results.score(X_test, y_test)"
   ]
  },
  {
   "cell_type": "markdown",
   "id": "6d872175",
   "metadata": {},
   "source": [
    "A good gridsearch would test very high bias, very high variance, and stuff in between.    \n",
    "Random forest default hyperparameters:\n",
    "- n_estimators = 100\n",
    "- max_depth = None\n",
    "- min_samples_leaf = 2\n",
    "- max_featurs = 'sqrt'\n",
    "\n",
    "So we'd want to test scenarios where we have few really deep trees and many really shallow trees"
   ]
  },
  {
   "cell_type": "code",
   "execution_count": 42,
   "id": "3b8c4a3b",
   "metadata": {},
   "outputs": [],
   "source": [
    "# Try again with different parameters (wide variety)\n",
    "rf_param_space = {\n",
    "    'n_estimators': [10, 50, 100],\n",
    "    'max_depth': [None, 500, 100, 5],\n",
    "    'min_samples_leaf': [2, 50, 200, 500]\n",
    "}\n",
    "\n",
    "metric = 'accuracy'\n",
    "\n",
    "rf_mdl_gcv = GridSearchCV(estimator = rf_mdl, param_grid = rf_param_space, cv = 5, scoring = metric)\n",
    "rf_mdl_gcv_results = rf_mdl_gcv.fit(X_train, y_train)"
   ]
  },
  {
   "cell_type": "code",
   "execution_count": 43,
   "id": "841422ad",
   "metadata": {},
   "outputs": [
    {
     "data": {
      "text/plain": [
       "{'max_depth': None, 'min_samples_leaf': 2, 'n_estimators': 100}"
      ]
     },
     "execution_count": 43,
     "metadata": {},
     "output_type": "execute_result"
    }
   ],
   "source": [
    "rf_mdl_gcv_results.best_params_"
   ]
  },
  {
   "cell_type": "code",
   "execution_count": 44,
   "id": "66ef54aa",
   "metadata": {},
   "outputs": [
    {
     "data": {
      "text/plain": [
       "1.0"
      ]
     },
     "execution_count": 44,
     "metadata": {},
     "output_type": "execute_result"
    }
   ],
   "source": [
    "rf_mdl_gcv_results.score(X_train, y_train)"
   ]
  },
  {
   "cell_type": "code",
   "execution_count": 45,
   "id": "7bd5f744",
   "metadata": {},
   "outputs": [
    {
     "data": {
      "text/plain": [
       "0.4849673202614379"
      ]
     },
     "execution_count": 45,
     "metadata": {},
     "output_type": "execute_result"
    }
   ],
   "source": [
    "rf_mdl_gcv_results.score(X_test, y_test)"
   ]
  },
  {
   "cell_type": "code",
   "execution_count": 46,
   "id": "017c9405",
   "metadata": {},
   "outputs": [],
   "source": [
    "# Try again with different parameters (many shallow trees)\n",
    "rf_param_space = {\n",
    "    'n_estimators': [500, 200],\n",
    "    'max_depth': [5, 10, 20],\n",
    "    'min_samples_leaf': [50, 20]\n",
    "}\n",
    "\n",
    "metric = 'accuracy'\n",
    "\n",
    "rf_mdl_gcv = GridSearchCV(estimator = rf_mdl, param_grid = rf_param_space, cv = 5, scoring = metric)\n",
    "rf_mdl_gcv_results = rf_mdl_gcv.fit(X_train, y_train)"
   ]
  },
  {
   "cell_type": "code",
   "execution_count": 47,
   "id": "6f800052",
   "metadata": {
    "scrolled": true
   },
   "outputs": [
    {
     "data": {
      "text/plain": [
       "{'max_depth': 10, 'min_samples_leaf': 20, 'n_estimators': 200}"
      ]
     },
     "execution_count": 47,
     "metadata": {},
     "output_type": "execute_result"
    }
   ],
   "source": [
    "rf_mdl_gcv_results.best_params_"
   ]
  },
  {
   "cell_type": "code",
   "execution_count": 48,
   "id": "841e51fd",
   "metadata": {},
   "outputs": [
    {
     "data": {
      "text/plain": [
       "0.7408496732026144"
      ]
     },
     "execution_count": 48,
     "metadata": {},
     "output_type": "execute_result"
    }
   ],
   "source": [
    "rf_mdl_gcv_results.score(X_train, y_train)"
   ]
  },
  {
   "cell_type": "code",
   "execution_count": 49,
   "id": "9e8149fb",
   "metadata": {},
   "outputs": [
    {
     "data": {
      "image/png": "[encoded data removed]",
      "text/plain": [
       "<Figure size 640x480 with 2 Axes>"
      ]
     },
     "metadata": {},
     "output_type": "display_data"
    }
   ],
   "source": [
    "# Check the performance of this model\n",
    "y_hat = rf_mdl_gcv_results.predict(X_test)\n",
    "\n",
    "cf = confusion_matrix(y_test, y_hat, labels = rf_mdl_gcv_results.classes_)\n",
    "cf_disp = ConfusionMatrixDisplay(confusion_matrix = cf, display_labels = rf_mdl_gcv_results.classes_)\n",
    "\n",
    "# Plot the confusion matrix\n",
    "cf_disp.plot()\n",
    "plt.title(\"RF Model with max_depth = 10, min_samples_leaf = 25, n_estimators = 500\")\n",
    "plt.show()"
   ]
  },
  {
   "cell_type": "code",
   "execution_count": 50,
   "id": "10728fdc",
   "metadata": {},
   "outputs": [
    {
     "name": "stdout",
     "output_type": "stream",
     "text": [
      "              precision    recall  f1-score   support\n",
      "\n",
      "         1.0       0.69      0.58      0.63       193\n",
      "         2.0       0.31      0.33      0.32       137\n",
      "         3.0       0.33      0.38      0.35       131\n",
      "         4.0       0.35      0.46      0.40       123\n",
      "         5.0       0.78      0.64      0.70       181\n",
      "\n",
      "    accuracy                           0.49       765\n",
      "   macro avg       0.49      0.48      0.48       765\n",
      "weighted avg       0.53      0.49      0.51       765\n",
      "\n"
     ]
    }
   ],
   "source": [
    "print(classification_report(y_hat, y_test))"
   ]
  },
  {
   "cell_type": "code",
   "execution_count": 51,
   "id": "e7d8ca94",
   "metadata": {},
   "outputs": [
    {
     "data": {
      "text/plain": [
       "0.49411764705882355"
      ]
     },
     "execution_count": 51,
     "metadata": {},
     "output_type": "execute_result"
    }
   ],
   "source": [
    "rf_mdl_gcv_results.score(X_test, y_test)"
   ]
  },
  {
   "cell_type": "code",
   "execution_count": 52,
   "id": "751efb2c",
   "metadata": {},
   "outputs": [
    {
     "data": {
      "image/png": "[encoded data removed]",
      "text/plain": [
       "<Figure size 640x480 with 2 Axes>"
      ]
     },
     "metadata": {},
     "output_type": "display_data"
    }
   ],
   "source": [
    "y_hat_train = rf_mdl_gcv_results.predict(X_train)\n",
    "\n",
    "cf = confusion_matrix(y_train, y_hat_train, labels = rf_mdl_gcv_results.classes_)\n",
    "cf_disp = ConfusionMatrixDisplay(confusion_matrix = cf, display_labels = rf_mdl_gcv_results.classes_)\n",
    "\n",
    "# Plot the confusion matrix\n",
    "cf_disp.plot()\n",
    "plt.title(\"RF Model with max_depth = 10, min_samples_leaf = 25, n_estimators = 500 (training data)\")\n",
    "plt.show()"
   ]
  },
  {
   "cell_type": "markdown",
   "id": "750580bc",
   "metadata": {},
   "source": [
    "The accuracy here is a bit worse than the accuracy without the hyperparameter tuning. So there still seems to be a lot of overfitting going on."
   ]
  },
  {
   "cell_type": "markdown",
   "id": "3f43ee5c",
   "metadata": {},
   "source": [
    "### Logistic Regression"
   ]
  },
  {
   "cell_type": "markdown",
   "id": "ac8754ce",
   "metadata": {},
   "source": [
    "It would be beneficial to see if a logistic regression model could perform better than the random forest since it might be a little less complex/have less bias"
   ]
  },
  {
   "cell_type": "code",
   "execution_count": 30,
   "id": "6e91b64e",
   "metadata": {},
   "outputs": [],
   "source": [
    "# Import the library\n",
    "from sklearn.linear_model import LogisticRegression"
   ]
  },
  {
   "cell_type": "code",
   "execution_count": 33,
   "id": "5c0c3c9e",
   "metadata": {},
   "outputs": [],
   "source": [
    "# Initialize the model\n",
    "lr_mdl = LogisticRegression(max_iter = 500)\n",
    "\n",
    "# Train the model\n",
    "lr_mdl.fit(X_train, y_train)\n",
    "\n",
    "# Make predictions\n",
    "y_hat = lr_mdl.predict(X_test)"
   ]
  },
  {
   "cell_type": "code",
   "execution_count": 37,
   "id": "8e9b72b3",
   "metadata": {},
   "outputs": [
    {
     "data": {
      "image/png": "[encoded data removed]",
      "text/plain": [
       "<Figure size 640x480 with 2 Axes>"
      ]
     },
     "metadata": {},
     "output_type": "display_data"
    },
    {
     "name": "stdout",
     "output_type": "stream",
     "text": [
      "              precision    recall  f1-score   support\n",
      "\n",
      "         1.0       0.57      0.70      0.63       161\n",
      "         2.0       0.34      0.30      0.32       143\n",
      "         3.0       0.37      0.33      0.35       152\n",
      "         4.0       0.45      0.36      0.40       160\n",
      "         5.0       0.63      0.74      0.68       149\n",
      "\n",
      "    accuracy                           0.49       765\n",
      "   macro avg       0.47      0.49      0.48       765\n",
      "weighted avg       0.47      0.49      0.48       765\n",
      "\n"
     ]
    }
   ],
   "source": [
    "# Plot a confusion matrix and a classification report\n",
    "def output_metrics(true, pred, cf_title, mdl):\n",
    "    cf = confusion_matrix(true, pred, labels = mdl.classes_)\n",
    "    cf_disp = ConfusionMatrixDisplay(confusion_matrix = cf, display_labels = mdl.classes_)\n",
    "    cf_disp.plot()\n",
    "    plt.title(cf_title)\n",
    "    plt.show()\n",
    "    print(classification_report(true, pred))\n",
    "\n",
    "output_metrics(y_test, y_hat, \"Initial Log Reg Model Confusion Matrix (Test Data)\", lr_mdl)"
   ]
  },
  {
   "cell_type": "code",
   "execution_count": 38,
   "id": "17cd720a",
   "metadata": {},
   "outputs": [
    {
     "data": {
      "image/png": "[encoded data removed]",
      "text/plain": [
       "<Figure size 640x480 with 2 Axes>"
      ]
     },
     "metadata": {},
     "output_type": "display_data"
    },
    {
     "name": "stdout",
     "output_type": "stream",
     "text": [
      "              precision    recall  f1-score   support\n",
      "\n",
      "         1.0       0.52      0.72      0.61       604\n",
      "         2.0       0.45      0.34      0.39       622\n",
      "         3.0       0.46      0.42      0.44       613\n",
      "         4.0       0.48      0.42      0.45       605\n",
      "         5.0       0.73      0.79      0.76       616\n",
      "\n",
      "    accuracy                           0.54      3060\n",
      "   macro avg       0.53      0.54      0.53      3060\n",
      "weighted avg       0.53      0.54      0.53      3060\n",
      "\n"
     ]
    }
   ],
   "source": [
    "y_hat_train = lr_mdl.predict(X_train)\n",
    "output_metrics(y_train, y_hat_train, \"Initial Log Reg Model Confusion Matrix (Training Data)\", lr_mdl)"
   ]
  },
  {
   "cell_type": "markdown",
   "id": "62ce55e0",
   "metadata": {},
   "source": [
    "It's really interesting to see the difference in bias between these two models but seeing the testing performance remain about the same"
   ]
  },
  {
   "cell_type": "markdown",
   "id": "900651fd",
   "metadata": {},
   "source": [
    "### Optimization Using Gridsearch (for logistic regression)"
   ]
  },
  {
   "cell_type": "code",
   "execution_count": 52,
   "id": "718fe4ad",
   "metadata": {},
   "outputs": [],
   "source": [
    "# Initialize a parameter space\n",
    "lr_param_space = {\n",
    "    'penalty': ['l2'],\n",
    "    'C': [0.1, 100, 1000, 5000]\n",
    "}\n",
    "\n",
    "metric = 'accuracy'\n",
    "\n",
    "lr_mdl = LogisticRegression(max_iter = 10000)\n",
    "\n",
    "# Initialize gridsearch model\n",
    "lr_mdl_gcv = GridSearchCV(estimator = lr_mdl, param_grid = lr_param_space, cv = 5, scoring = metric)\n",
    "lr_mdl_gcv_results = lr_mdl_gcv.fit(X_train, y_train)"
   ]
  },
  {
   "cell_type": "code",
   "execution_count": 53,
   "id": "f17588f8",
   "metadata": {},
   "outputs": [
    {
     "data": {
      "text/plain": [
       "{'C': 0.1, 'penalty': 'l2'}"
      ]
     },
     "execution_count": 53,
     "metadata": {},
     "output_type": "execute_result"
    }
   ],
   "source": [
    "lr_mdl_gcv_results.best_params_"
   ]
  },
  {
   "cell_type": "code",
   "execution_count": 54,
   "id": "f04615eb",
   "metadata": {},
   "outputs": [
    {
     "data": {
      "image/png": "[encoded data removed]",
      "text/plain": [
       "<Figure size 640x480 with 2 Axes>"
      ]
     },
     "metadata": {},
     "output_type": "display_data"
    },
    {
     "name": "stdout",
     "output_type": "stream",
     "text": [
      "              precision    recall  f1-score   support\n",
      "\n",
      "         1.0       0.54      0.71      0.61       161\n",
      "         2.0       0.34      0.25      0.29       143\n",
      "         3.0       0.35      0.34      0.34       152\n",
      "         4.0       0.44      0.33      0.38       160\n",
      "         5.0       0.60      0.74      0.66       149\n",
      "\n",
      "    accuracy                           0.48       765\n",
      "   macro avg       0.45      0.47      0.46       765\n",
      "weighted avg       0.46      0.48      0.46       765\n",
      "\n"
     ]
    }
   ],
   "source": [
    "y_hat_gcv = lr_mdl_gcv_results.predict(X_test)\n",
    "output_metrics(y_test, y_hat_gcv, \"LR Model with C = 0.1 and l2 penalty (Test Data)\", lr_mdl_gcv_results)"
   ]
  },
  {
   "cell_type": "code",
   "execution_count": 55,
   "id": "c7eb53bd",
   "metadata": {},
   "outputs": [
    {
     "data": {
      "image/png": "[encoded data removed]",
      "text/plain": [
       "<Figure size 640x480 with 2 Axes>"
      ]
     },
     "metadata": {},
     "output_type": "display_data"
    },
    {
     "name": "stdout",
     "output_type": "stream",
     "text": [
      "              precision    recall  f1-score   support\n",
      "\n",
      "         1.0       0.48      0.70      0.57       604\n",
      "         2.0       0.36      0.25      0.30       622\n",
      "         3.0       0.39      0.36      0.38       613\n",
      "         4.0       0.45      0.33      0.38       605\n",
      "         5.0       0.65      0.78      0.71       616\n",
      "\n",
      "    accuracy                           0.48      3060\n",
      "   macro avg       0.47      0.48      0.47      3060\n",
      "weighted avg       0.47      0.48      0.47      3060\n",
      "\n"
     ]
    }
   ],
   "source": [
    "y_hat_gcv_train = lr_mdl_gcv_results.predict(X_train)\n",
    "output_metrics(y_train, y_hat_gcv_train, \"LR Model with C = 0.1 and l2 penalty (Training Data)\", lr_mdl_gcv_results)"
   ]
  },
  {
   "cell_type": "markdown",
   "id": "d3620202",
   "metadata": {},
   "source": [
    "Increasing the bias more seemed to make the model perform a bit worse, but it eliminated any overfitting. However, this seemed to be better than having the \n",
    "C penalty higher than 1. Seems like, from the results of all these tests, the data could just be too noisy for neutral reviews."
   ]
  }
 ],
 "metadata": {
  "kernelspec": {
   "display_name": "Python 3 (ipykernel)",
   "language": "python",
   "name": "python3"
  },
  "language_info": {
   "codemirror_mode": {
    "name": "ipython",
    "version": 3
   },
   "file_extension": ".py",
   "mimetype": "text/x-python",
   "name": "python",
   "nbconvert_exporter": "python",
   "pygments_lexer": "ipython3",
   "version": "3.9.19"
  }
 },
 "nbformat": 4,
 "nbformat_minor": 5
}
