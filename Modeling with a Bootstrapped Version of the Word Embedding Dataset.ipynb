{
 "cells": [
  {
   "cell_type": "markdown",
   "id": "28440597",
   "metadata": {},
   "source": [
    "# Modeling with a Bootstrapped Version of the Word Embedding Dataset"
   ]
  },
  {
   "cell_type": "markdown",
   "id": "ac154053",
   "metadata": {},
   "source": [
    "Sometimes people use bootstrapping to up-sample their dataset to make it balanced. I would like to try it here to see if it will change the performance of the machine learning models. It may not change the noise of the data, but I am curious to see what happens."
   ]
  },
  {
   "cell_type": "code",
   "execution_count": 23,
   "id": "fd15f8bf",
   "metadata": {},
   "outputs": [],
   "source": [
    "import gensim\n",
    "from gensim import utils\n",
    "import tempfile\n",
    "import numpy as np\n",
    "import pandas as pd\n",
    "import os\n",
    "import matplotlib.pyplot as plt\n",
    "\n",
    "# Modeling\n",
    "from sklearn.model_selection import train_test_split\n",
    "from sklearn.ensemble import RandomForestClassifier\n",
    "from sklearn.linear_model import LogisticRegression\n",
    "from sklearn.metrics import classification_report, accuracy_score\n",
    "from sklearn.metrics import confusion_matrix, ConfusionMatrixDisplay\n",
    "from sklearn.model_selection import GridSearchCV\n",
    "from sklearn.utils import resample"
   ]
  },
  {
   "cell_type": "code",
   "execution_count": 2,
   "id": "f0ecae2d",
   "metadata": {},
   "outputs": [],
   "source": [
    "# Load the genims model\n",
    "model_name = 'gensim-model-i5jx6hf4'\n",
    "model = gensim.models.Word2Vec.load(model_name)"
   ]
  },
  {
   "cell_type": "markdown",
   "id": "a93836d8",
   "metadata": {},
   "source": [
    "## Create the Dataframe"
   ]
  },
  {
   "cell_type": "code",
   "execution_count": 3,
   "id": "ebdf30cc",
   "metadata": {},
   "outputs": [],
   "source": [
    "# Define functions needed\n",
    "# This calculates and returns an average word vector for a document\n",
    "def word_vector(tokens, size):\n",
    "    vec = np.zeros(size).reshape((1, size))\n",
    "    count = 0\n",
    "    for token in tokens:\n",
    "        try:\n",
    "            vec += model.wv[token].reshape((1, size))\n",
    "            count += 1\n",
    "        except KeyError: # handle out of vocabulary errors\n",
    "            continue\n",
    "    if count != 0:\n",
    "        vec /= count\n",
    "        return vec\n",
    "\n",
    "# This calculates and returns the number of documents in a corpus so the array is constructed correctly\n",
    "def calculate_num_docs(corpus):\n",
    "    num_docs = 0\n",
    "    for i, doc in enumerate(corpus):\n",
    "        num_docs += 1\n",
    "    return num_docs"
   ]
  },
  {
   "cell_type": "code",
   "execution_count": 4,
   "id": "abc6602f",
   "metadata": {},
   "outputs": [
    {
     "data": {
      "text/html": [
       "<div>\n",
       "<style scoped>\n",
       "    .dataframe tbody tr th:only-of-type {\n",
       "        vertical-align: middle;\n",
       "    }\n",
       "\n",
       "    .dataframe tbody tr th {\n",
       "        vertical-align: top;\n",
       "    }\n",
       "\n",
       "    .dataframe thead th {\n",
       "        text-align: right;\n",
       "    }\n",
       "</style>\n",
       "<table border=\"1\" class=\"dataframe\">\n",
       "  <thead>\n",
       "    <tr style=\"text-align: right;\">\n",
       "      <th></th>\n",
       "      <th>date</th>\n",
       "      <th>review</th>\n",
       "      <th>rating</th>\n",
       "      <th>isEdited</th>\n",
       "      <th>title</th>\n",
       "      <th>userName</th>\n",
       "      <th>developerResponse</th>\n",
       "    </tr>\n",
       "  </thead>\n",
       "  <tbody>\n",
       "    <tr>\n",
       "      <th>0</th>\n",
       "      <td>2024-11-22 22:44:23</td>\n",
       "      <td>I say it can be fantastic because some people ...</td>\n",
       "      <td>5</td>\n",
       "      <td>False</td>\n",
       "      <td>Yelp can be fantastic</td>\n",
       "      <td>Robg80</td>\n",
       "      <td>NaN</td>\n",
       "    </tr>\n",
       "    <tr>\n",
       "      <th>1</th>\n",
       "      <td>2024-12-12 22:08:33</td>\n",
       "      <td>Yelp's developers have been spamming false 5-s...</td>\n",
       "      <td>1</td>\n",
       "      <td>False</td>\n",
       "      <td>Review botting should not be tolerated!</td>\n",
       "      <td>itsbad):</td>\n",
       "      <td>NaN</td>\n",
       "    </tr>\n",
       "    <tr>\n",
       "      <th>2</th>\n",
       "      <td>2024-10-11 18:43:56</td>\n",
       "      <td>I will not be using Yelp ever again. After a t...</td>\n",
       "      <td>1</td>\n",
       "      <td>False</td>\n",
       "      <td>Horrible</td>\n",
       "      <td>jennausuwiajdneka</td>\n",
       "      <td>NaN</td>\n",
       "    </tr>\n",
       "    <tr>\n",
       "      <th>3</th>\n",
       "      <td>2024-09-22 20:35:32</td>\n",
       "      <td>During think tank meetings with other business...</td>\n",
       "      <td>1</td>\n",
       "      <td>False</td>\n",
       "      <td>Is yelp fair?</td>\n",
       "      <td>Srepman</td>\n",
       "      <td>{'id': 46973211, 'body': 'Thank you for taking...</td>\n",
       "    </tr>\n",
       "    <tr>\n",
       "      <th>4</th>\n",
       "      <td>2024-12-13 03:52:13</td>\n",
       "      <td>If I could give this place a 0 star I absolute...</td>\n",
       "      <td>1</td>\n",
       "      <td>False</td>\n",
       "      <td>Horrible service</td>\n",
       "      <td>Tsimmons96</td>\n",
       "      <td>NaN</td>\n",
       "    </tr>\n",
       "  </tbody>\n",
       "</table>\n",
       "</div>"
      ],
      "text/plain": [
       "                  date                                             review  \\\n",
       "0  2024-11-22 22:44:23  I say it can be fantastic because some people ...   \n",
       "1  2024-12-12 22:08:33  Yelp's developers have been spamming false 5-s...   \n",
       "2  2024-10-11 18:43:56  I will not be using Yelp ever again. After a t...   \n",
       "3  2024-09-22 20:35:32  During think tank meetings with other business...   \n",
       "4  2024-12-13 03:52:13  If I could give this place a 0 star I absolute...   \n",
       "\n",
       "   rating  isEdited                                    title  \\\n",
       "0       5     False                    Yelp can be fantastic   \n",
       "1       1     False  Review botting should not be tolerated!   \n",
       "2       1     False                                 Horrible   \n",
       "3       1     False                            Is yelp fair?   \n",
       "4       1     False                         Horrible service   \n",
       "\n",
       "            userName                                  developerResponse  \n",
       "0             Robg80                                                NaN  \n",
       "1           itsbad):                                                NaN  \n",
       "2  jennausuwiajdneka                                                NaN  \n",
       "3            Srepman  {'id': 46973211, 'body': 'Thank you for taking...  \n",
       "4         Tsimmons96                                                NaN  "
      ]
     },
     "execution_count": 4,
     "metadata": {},
     "output_type": "execute_result"
    }
   ],
   "source": [
    "# Import the reviews dataframe\n",
    "yelp_reviews = pd.read_csv('yelp_reviews_v3.csv')\n",
    "yelp_reviews.drop(\"Unnamed: 0\", axis = 1, inplace = True)\n",
    "yelp_reviews.head(5)"
   ]
  },
  {
   "cell_type": "code",
   "execution_count": 5,
   "id": "b8c07b3f",
   "metadata": {},
   "outputs": [],
   "source": [
    "# Define a generator that will yield each document and preprocess it\n",
    "class CorpusGenerator:\n",
    "    def __iter__(self):\n",
    "        for doc in yelp_reviews['review']:\n",
    "            yield utils.simple_preprocess(doc)"
   ]
  },
  {
   "cell_type": "code",
   "execution_count": 6,
   "id": "8fa6387b",
   "metadata": {},
   "outputs": [
    {
     "data": {
      "text/plain": [
       "(20000, 300)"
      ]
     },
     "execution_count": 6,
     "metadata": {},
     "output_type": "execute_result"
    }
   ],
   "source": [
    "# Use the functions to create the new dataframe\n",
    "yelp_corpus = CorpusGenerator()\n",
    "\n",
    "num_docs = calculate_num_docs(yelp_corpus) # calculate the number of docs to determine the number of rows needed\n",
    "\n",
    "wordvec_arrays = np.zeros((num_docs, 300)) # 300 dimensions/features for each word vector\n",
    "\n",
    "for i, doc in enumerate(yelp_corpus):\n",
    "    wordvec_arrays[i, :] = word_vector(doc, 300) # change each row (doc) to the corresponding word vector\n",
    "    \n",
    "wordvec_df = pd.DataFrame(wordvec_arrays)\n",
    "wordvec_df.shape"
   ]
  },
  {
   "cell_type": "code",
   "execution_count": 7,
   "id": "de482ce5",
   "metadata": {},
   "outputs": [],
   "source": [
    "wordvec_df['label'] = yelp_reviews['rating']"
   ]
  },
  {
   "cell_type": "code",
   "execution_count": 8,
   "id": "71e5705f",
   "metadata": {},
   "outputs": [
    {
     "data": {
      "text/html": [
       "<div>\n",
       "<style scoped>\n",
       "    .dataframe tbody tr th:only-of-type {\n",
       "        vertical-align: middle;\n",
       "    }\n",
       "\n",
       "    .dataframe tbody tr th {\n",
       "        vertical-align: top;\n",
       "    }\n",
       "\n",
       "    .dataframe thead th {\n",
       "        text-align: right;\n",
       "    }\n",
       "</style>\n",
       "<table border=\"1\" class=\"dataframe\">\n",
       "  <thead>\n",
       "    <tr style=\"text-align: right;\">\n",
       "      <th></th>\n",
       "      <th>0</th>\n",
       "      <th>1</th>\n",
       "      <th>2</th>\n",
       "      <th>3</th>\n",
       "      <th>4</th>\n",
       "      <th>5</th>\n",
       "      <th>6</th>\n",
       "      <th>7</th>\n",
       "      <th>8</th>\n",
       "      <th>9</th>\n",
       "      <th>...</th>\n",
       "      <th>291</th>\n",
       "      <th>292</th>\n",
       "      <th>293</th>\n",
       "      <th>294</th>\n",
       "      <th>295</th>\n",
       "      <th>296</th>\n",
       "      <th>297</th>\n",
       "      <th>298</th>\n",
       "      <th>299</th>\n",
       "      <th>label</th>\n",
       "    </tr>\n",
       "  </thead>\n",
       "  <tbody>\n",
       "    <tr>\n",
       "      <th>0</th>\n",
       "      <td>-0.227540</td>\n",
       "      <td>-0.170826</td>\n",
       "      <td>0.115066</td>\n",
       "      <td>0.149463</td>\n",
       "      <td>-0.026197</td>\n",
       "      <td>0.008393</td>\n",
       "      <td>-0.024517</td>\n",
       "      <td>0.025794</td>\n",
       "      <td>0.067489</td>\n",
       "      <td>0.097428</td>\n",
       "      <td>...</td>\n",
       "      <td>0.172643</td>\n",
       "      <td>0.034766</td>\n",
       "      <td>0.276930</td>\n",
       "      <td>0.098627</td>\n",
       "      <td>-0.086076</td>\n",
       "      <td>-0.055905</td>\n",
       "      <td>-0.056114</td>\n",
       "      <td>-0.002599</td>\n",
       "      <td>0.101394</td>\n",
       "      <td>5</td>\n",
       "    </tr>\n",
       "    <tr>\n",
       "      <th>1</th>\n",
       "      <td>-0.199238</td>\n",
       "      <td>-0.200579</td>\n",
       "      <td>0.116510</td>\n",
       "      <td>0.111658</td>\n",
       "      <td>-0.064551</td>\n",
       "      <td>0.020515</td>\n",
       "      <td>-0.017088</td>\n",
       "      <td>0.006766</td>\n",
       "      <td>0.083793</td>\n",
       "      <td>0.163523</td>\n",
       "      <td>...</td>\n",
       "      <td>0.178555</td>\n",
       "      <td>0.034858</td>\n",
       "      <td>0.283163</td>\n",
       "      <td>0.098012</td>\n",
       "      <td>-0.086388</td>\n",
       "      <td>-0.065492</td>\n",
       "      <td>-0.055511</td>\n",
       "      <td>-0.080624</td>\n",
       "      <td>0.102011</td>\n",
       "      <td>1</td>\n",
       "    </tr>\n",
       "    <tr>\n",
       "      <th>2</th>\n",
       "      <td>-0.229403</td>\n",
       "      <td>-0.180689</td>\n",
       "      <td>0.149343</td>\n",
       "      <td>0.133359</td>\n",
       "      <td>-0.036580</td>\n",
       "      <td>0.031731</td>\n",
       "      <td>-0.011592</td>\n",
       "      <td>-0.025878</td>\n",
       "      <td>0.081141</td>\n",
       "      <td>0.153825</td>\n",
       "      <td>...</td>\n",
       "      <td>0.177649</td>\n",
       "      <td>0.016944</td>\n",
       "      <td>0.292426</td>\n",
       "      <td>0.114490</td>\n",
       "      <td>-0.116326</td>\n",
       "      <td>-0.075048</td>\n",
       "      <td>-0.072371</td>\n",
       "      <td>-0.070862</td>\n",
       "      <td>0.127622</td>\n",
       "      <td>1</td>\n",
       "    </tr>\n",
       "    <tr>\n",
       "      <th>3</th>\n",
       "      <td>-0.237999</td>\n",
       "      <td>-0.193224</td>\n",
       "      <td>0.123863</td>\n",
       "      <td>0.154978</td>\n",
       "      <td>-0.065055</td>\n",
       "      <td>0.050980</td>\n",
       "      <td>0.001317</td>\n",
       "      <td>0.003766</td>\n",
       "      <td>0.086413</td>\n",
       "      <td>0.102024</td>\n",
       "      <td>...</td>\n",
       "      <td>0.149542</td>\n",
       "      <td>0.012284</td>\n",
       "      <td>0.302916</td>\n",
       "      <td>0.106729</td>\n",
       "      <td>-0.074216</td>\n",
       "      <td>-0.042382</td>\n",
       "      <td>-0.052624</td>\n",
       "      <td>-0.039711</td>\n",
       "      <td>0.112512</td>\n",
       "      <td>1</td>\n",
       "    </tr>\n",
       "    <tr>\n",
       "      <th>4</th>\n",
       "      <td>-0.203110</td>\n",
       "      <td>-0.214482</td>\n",
       "      <td>0.103448</td>\n",
       "      <td>0.181231</td>\n",
       "      <td>0.010507</td>\n",
       "      <td>-0.013264</td>\n",
       "      <td>-0.050693</td>\n",
       "      <td>0.035647</td>\n",
       "      <td>0.080304</td>\n",
       "      <td>0.143670</td>\n",
       "      <td>...</td>\n",
       "      <td>0.180557</td>\n",
       "      <td>0.059697</td>\n",
       "      <td>0.240646</td>\n",
       "      <td>0.098397</td>\n",
       "      <td>-0.047990</td>\n",
       "      <td>-0.073707</td>\n",
       "      <td>-0.052928</td>\n",
       "      <td>-0.058238</td>\n",
       "      <td>0.162846</td>\n",
       "      <td>1</td>\n",
       "    </tr>\n",
       "  </tbody>\n",
       "</table>\n",
       "<p>5 rows × 301 columns</p>\n",
       "</div>"
      ],
      "text/plain": [
       "          0         1         2         3         4         5         6  \\\n",
       "0 -0.227540 -0.170826  0.115066  0.149463 -0.026197  0.008393 -0.024517   \n",
       "1 -0.199238 -0.200579  0.116510  0.111658 -0.064551  0.020515 -0.017088   \n",
       "2 -0.229403 -0.180689  0.149343  0.133359 -0.036580  0.031731 -0.011592   \n",
       "3 -0.237999 -0.193224  0.123863  0.154978 -0.065055  0.050980  0.001317   \n",
       "4 -0.203110 -0.214482  0.103448  0.181231  0.010507 -0.013264 -0.050693   \n",
       "\n",
       "          7         8         9  ...       291       292       293       294  \\\n",
       "0  0.025794  0.067489  0.097428  ...  0.172643  0.034766  0.276930  0.098627   \n",
       "1  0.006766  0.083793  0.163523  ...  0.178555  0.034858  0.283163  0.098012   \n",
       "2 -0.025878  0.081141  0.153825  ...  0.177649  0.016944  0.292426  0.114490   \n",
       "3  0.003766  0.086413  0.102024  ...  0.149542  0.012284  0.302916  0.106729   \n",
       "4  0.035647  0.080304  0.143670  ...  0.180557  0.059697  0.240646  0.098397   \n",
       "\n",
       "        295       296       297       298       299  label  \n",
       "0 -0.086076 -0.055905 -0.056114 -0.002599  0.101394      5  \n",
       "1 -0.086388 -0.065492 -0.055511 -0.080624  0.102011      1  \n",
       "2 -0.116326 -0.075048 -0.072371 -0.070862  0.127622      1  \n",
       "3 -0.074216 -0.042382 -0.052624 -0.039711  0.112512      1  \n",
       "4 -0.047990 -0.073707 -0.052928 -0.058238  0.162846      1  \n",
       "\n",
       "[5 rows x 301 columns]"
      ]
     },
     "execution_count": 8,
     "metadata": {},
     "output_type": "execute_result"
    }
   ],
   "source": [
    "wordvec_df.head(5)"
   ]
  },
  {
   "cell_type": "code",
   "execution_count": 9,
   "id": "bbcfdcc6",
   "metadata": {},
   "outputs": [
    {
     "data": {
      "image/png": "[encoded data removed]",
      "text/plain": [
       "<Figure size 640x480 with 1 Axes>"
      ]
     },
     "metadata": {},
     "output_type": "display_data"
    },
    {
     "name": "stdout",
     "output_type": "stream",
     "text": [
      "label\n",
      "1     4509\n",
      "2      948\n",
      "3      765\n",
      "4      914\n",
      "5    12864\n",
      "Name: count, dtype: int64\n"
     ]
    }
   ],
   "source": [
    "label_counts = wordvec_df.label.value_counts().sort_index()\n",
    "plt.figure()\n",
    "plt.bar(label_counts.index, label_counts.values, color = 'blue')\n",
    "plt.title('Label counts')\n",
    "plt.xlabel('Label')\n",
    "plt.ylabel('No. of occurrences')\n",
    "plt.show()\n",
    "print(label_counts)"
   ]
  },
  {
   "cell_type": "code",
   "execution_count": 11,
   "id": "9133f3ff",
   "metadata": {},
   "outputs": [],
   "source": [
    "# Do a train-test-split to make sure that the upsampled data does not contribute to data leakage\n",
    "train, test = train_test_split(wordvec_df, test_size = 0.2, random_state = 3)"
   ]
  },
  {
   "cell_type": "code",
   "execution_count": 16,
   "id": "9d099ae2",
   "metadata": {},
   "outputs": [
    {
     "data": {
      "text/plain": [
       "label\n",
       "1     3612\n",
       "2      762\n",
       "3      615\n",
       "4      708\n",
       "5    10303\n",
       "Name: count, dtype: int64"
      ]
     },
     "execution_count": 16,
     "metadata": {},
     "output_type": "execute_result"
    }
   ],
   "source": [
    "train_label_counts = train.label.value_counts().sort_index()\n",
    "train_label_counts"
   ]
  },
  {
   "cell_type": "code",
   "execution_count": 36,
   "id": "2ecba1e5",
   "metadata": {},
   "outputs": [
    {
     "data": {
      "text/plain": [
       "label\n",
       "1    10303\n",
       "2    10303\n",
       "3    10303\n",
       "4    10303\n",
       "5    10303\n",
       "Name: count, dtype: int64"
      ]
     },
     "execution_count": 36,
     "metadata": {},
     "output_type": "execute_result"
    }
   ],
   "source": [
    "# Calculate the number of samples to take from each category, store it in a list\n",
    "n_samples = [train_label_counts[5] - train_label_counts[i] for i in range(1,5)] # doesn't include 5th label - 5th label\n",
    "\n",
    "\n",
    "# Function that will append a resample of size n_samples[i] for that class to the training data\n",
    "def upsample(df, upsample_counts, labels):\n",
    "    for l, n in enumerate(upsample_counts):\n",
    "        df = pd.concat([df, resample(df[df['label'] == labels[l]], replace = True, n_samples = n)])\n",
    "    return df\n",
    "\n",
    "train_upsampled = upsample(train, n_samples, [1, 2, 3, 4])\n",
    "train_upsampled.label.value_counts().sort_index()"
   ]
  },
  {
   "cell_type": "markdown",
   "id": "cedeb078",
   "metadata": {},
   "source": [
    "Now the data has been upsampled using random oversampling"
   ]
  },
  {
   "cell_type": "code",
   "execution_count": 40,
   "id": "31e78caf",
   "metadata": {},
   "outputs": [],
   "source": [
    "train_upsampled = train_upsampled.dropna(axis = 0, how = 'any')"
   ]
  },
  {
   "cell_type": "code",
   "execution_count": 41,
   "id": "eeb8a4a2",
   "metadata": {},
   "outputs": [
    {
     "data": {
      "text/plain": [
       "label\n",
       "1    10303\n",
       "2    10303\n",
       "3    10303\n",
       "4    10303\n",
       "5    10302\n",
       "Name: count, dtype: int64"
      ]
     },
     "execution_count": 41,
     "metadata": {},
     "output_type": "execute_result"
    }
   ],
   "source": [
    "train_upsampled.label.value_counts().sort_index()"
   ]
  },
  {
   "cell_type": "markdown",
   "id": "71fa1d8f",
   "metadata": {},
   "source": [
    "## Modeling and Evaluation (Multiclass problem)"
   ]
  },
  {
   "cell_type": "code",
   "execution_count": 45,
   "id": "77899f60",
   "metadata": {},
   "outputs": [],
   "source": [
    "# Set up X and y\n",
    "X_train_upsampled = train_upsampled.drop('label', axis = 1)\n",
    "y_train_upsampled = train_upsampled['label']\n",
    "X_test = test.drop('label', axis = 1)\n",
    "y_test = test['label']"
   ]
  },
  {
   "cell_type": "code",
   "execution_count": 47,
   "id": "6d5fc882",
   "metadata": {},
   "outputs": [],
   "source": [
    "# Create a Logistic Regression Model\n",
    "lr_mdl = LogisticRegression(max_iter = 5000)\n",
    "\n",
    "# Train the model\n",
    "lr_mdl.fit(X_train_upsampled, y_train_upsampled)\n",
    "\n",
    "# Make predictions\n",
    "y_hat = lr_mdl.predict(X_test)"
   ]
  },
  {
   "cell_type": "code",
   "execution_count": 48,
   "id": "49a28bc0",
   "metadata": {},
   "outputs": [
    {
     "data": {
      "image/png": "[encoded data removed]",
      "text/plain": [
       "<Figure size 640x480 with 2 Axes>"
      ]
     },
     "metadata": {},
     "output_type": "display_data"
    },
    {
     "name": "stdout",
     "output_type": "stream",
     "text": [
      "              precision    recall  f1-score   support\n",
      "\n",
      "           1       0.75      0.70      0.73       897\n",
      "           2       0.16      0.28      0.21       186\n",
      "           3       0.19      0.40      0.26       150\n",
      "           4       0.13      0.33      0.18       206\n",
      "           5       0.97      0.75      0.84      2561\n",
      "\n",
      "    accuracy                           0.68      4000\n",
      "   macro avg       0.44      0.49      0.44      4000\n",
      "weighted avg       0.81      0.68      0.73      4000\n",
      "\n"
     ]
    }
   ],
   "source": [
    "# Plot a confusion matrix and a classification report\n",
    "def output_metrics(true, pred, cf_title, mdl):\n",
    "    cf = confusion_matrix(true, pred, labels = mdl.classes_)\n",
    "    cf_disp = ConfusionMatrixDisplay(confusion_matrix = cf, display_labels = mdl.classes_)\n",
    "    cf_disp.plot()\n",
    "    plt.title(cf_title)\n",
    "    plt.show()\n",
    "    print(classification_report(true, pred))\n",
    "\n",
    "output_metrics(y_test, y_hat, \"Initial Log Reg Model Confusion Matrix (Test Data)\", lr_mdl)"
   ]
  },
  {
   "cell_type": "code",
   "execution_count": 49,
   "id": "eac6d796",
   "metadata": {},
   "outputs": [
    {
     "data": {
      "image/png": "[encoded data removed]",
      "text/plain": [
       "<Figure size 640x480 with 2 Axes>"
      ]
     },
     "metadata": {},
     "output_type": "display_data"
    },
    {
     "name": "stdout",
     "output_type": "stream",
     "text": [
      "              precision    recall  f1-score   support\n",
      "\n",
      "           1       0.59      0.71      0.64     10303\n",
      "           2       0.48      0.43      0.45     10303\n",
      "           3       0.49      0.46      0.48     10303\n",
      "           4       0.53      0.50      0.52     10303\n",
      "           5       0.74      0.76      0.75     10302\n",
      "\n",
      "    accuracy                           0.57     51514\n",
      "   macro avg       0.57      0.57      0.57     51514\n",
      "weighted avg       0.57      0.57      0.57     51514\n",
      "\n"
     ]
    }
   ],
   "source": [
    "y_hat_train_upsampled = lr_mdl.predict(X_train_upsampled)\n",
    "\n",
    "output_metrics(y_train_upsampled, y_hat_train_upsampled, \"Initial Log Reg Model Confusion Matrix (Train Data)\", lr_mdl)"
   ]
  },
  {
   "cell_type": "markdown",
   "id": "6115e984",
   "metadata": {},
   "source": [
    "As predicted, the model performed worse than with the downsampling"
   ]
  }
 ],
 "metadata": {
  "kernelspec": {
   "display_name": "Python 3 (ipykernel)",
   "language": "python",
   "name": "python3"
  },
  "language_info": {
   "codemirror_mode": {
    "name": "ipython",
    "version": 3
   },
   "file_extension": ".py",
   "mimetype": "text/x-python",
   "name": "python",
   "nbconvert_exporter": "python",
   "pygments_lexer": "ipython3",
   "version": "3.9.19"
  }
 },
 "nbformat": 4,
 "nbformat_minor": 5
}
